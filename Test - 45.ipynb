{
 "cells": [
  {
   "cell_type": "markdown",
   "metadata": {},
   "source": [
    "## Task - 1 \n",
    "### Given a list of scores of different students, return the average score of each student's top five scores in the order of each student's id.\n",
    "\n",
    "- Each entry items[i] has items[i][0] the student's id, and items[i][1] the student's score.  The average score is calculated using integer division.\n",
    "\n",
    " \n",
    "```  \n",
    "Example 1:\n",
    "\n",
    "Input: [[1,91],[1,92],[2,93],[2,97],[1,60],[2,77],[1,65],[1,87],[1,100],[2,100],[2,76]]\n",
    "Output: [[1,87],[2,88]]\n",
    "Explanation: \n",
    "The average of the student with id = 1 is 87.\n",
    "The average of the student with id = 2 is 88.6. But with integer division their average converts to 88.\n",
    "\n",
    "Note:\n",
    "\n",
    "1 <= items.length <= 1000\n",
    "items[i].length == 2\n",
    "The IDs of the students is between 1 to 1000\n",
    "The score of the students is between 1 to 100\n",
    "For each student, there are at least 5 scores\n",
    "```"
   ]
  },
  {
   "cell_type": "code",
   "execution_count": 35,
   "metadata": {},
   "outputs": [
    {
     "name": "stdout",
     "output_type": "stream",
     "text": [
      "[[1, 87], [2, 88]]\n"
     ]
    }
   ],
   "source": [
    "### WRITE YOUR ANSWER HERE #####\n",
    "students=[[1,91],[1,92],[1,50],[2,50],[2,93],[2,97],[1,60],[2,77],[1,65],[1,87],[1,100],[2,100],[2,76]];\n",
    "id1=[]\n",
    "id2=[]\n",
    "\n",
    "\n",
    "for i in students:\n",
    "    if(i[0]==1):\n",
    "        id1.insert(0,i[1])\n",
    "    else:\n",
    "         id2.insert(0,i[1])\n",
    "            \n",
    "id1.sort(reverse=True)\n",
    "avg=0           \n",
    "for i in id1[0:5]:\n",
    "    avg+=i\n",
    "avg//=5\n",
    "id1.clear()\n",
    "id1.insert(0,1)\n",
    "id1.insert(1,avg)\n",
    "\n",
    "id2.sort(reverse=True)\n",
    "avg=0           \n",
    "for i in id2[0:5]:\n",
    "    avg+=i\n",
    "avg//=5\n",
    "id2.clear()\n",
    "id2.insert(0,2)\n",
    "id2.insert(1,avg)\n",
    "\n",
    "\n",
    "print([id1,id2])\n",
    "    "
   ]
  },
  {
   "cell_type": "code",
   "execution_count": null,
   "metadata": {},
   "outputs": [],
   "source": []
  },
  {
   "cell_type": "markdown",
   "metadata": {},
   "source": [
    "<!-- __here__ -->\n",
    "<hr style=\"border:2px solid gray\">\n",
    "\n",
    "<!-- def highFive(items):\n",
    "    \"\"\"\n",
    "    :type items: List[List[int]]  # Input: List of student IDs and scores\n",
    "    :rtype: List[List[int]]  # Output: List of average scores for each student's top five scores\n",
    "    \"\"\"\n",
    "    \n",
    "    if not items:  # If the input list is empty, return an empty list\n",
    "        return []\n",
    "    \n",
    "    score_map = {}  # Create a dictionary to store scores for each student\n",
    "    for item in items:\n",
    "        if item[0] in score_map:\n",
    "            score_map[item[0]].append(item[1])\n",
    "        else:\n",
    "            score_map[item[0]] = [item[1]]\n",
    "            \n",
    "    result = []  # Initialize a list to store the final result\n",
    "    for key, value in score_map.items():\n",
    "        value.sort(reverse=True)  # Sort the scores in descending order\n",
    "        if len(value) >= 5:\n",
    "            average = value[:5]  # Take the top five scores\n",
    "        else:\n",
    "            average = value\n",
    "        score_map[key] = sum(average) // len(average)  # Calculate the average using integer division\n",
    "        result.append([key, score_map[key]])\n",
    "    \n",
    "    return result\n",
    " -->"
   ]
  },
  {
   "cell_type": "markdown",
   "metadata": {},
   "source": [
    "## Task - 2\n",
    "### Given an array A of positive integers, let S be the sum of the digits of the minimal element of A. Return 0 if S is odd, otherwise return 1.\n",
    "\n",
    "```\n",
    "Example 1:\n",
    "\n",
    "Input: [34,23,1,24,75,33,54,8]\n",
    "Output: 0\n",
    "Explanation: \n",
    "The minimal element is 1, and the sum of those digits is S = 1 which is odd, so the answer is 0.\n",
    "Example 2:\n",
    "\n",
    "Input: [99,77,33,66,55]\n",
    "Output: 1\n",
    "Explanation: \n",
    "The minimal element is 33, and the sum of those digits is S = 3 + 3 = 6 which is even, so the answer is 1.\n",
    " \n",
    "\n",
    "Note:\n",
    "\n",
    "1 <= A.length <= 100\n",
    "1 <= A[i].length <= 100\n",
    "```"
   ]
  },
  {
   "cell_type": "code",
   "execution_count": 34,
   "metadata": {},
   "outputs": [
    {
     "name": "stdout",
     "output_type": "stream",
     "text": [
      "1\n"
     ]
    }
   ],
   "source": [
    "### WRITE YOUR ANSWER HERE #####\n",
    "x=[99,77,33,66,55];\n",
    "x.sort()\n",
    "sum=0\n",
    "for i in str(x[0]):\n",
    "    sum+=int(i)\n",
    "\n",
    "if sum%2==0:\n",
    "    print(1)\n",
    "else:\n",
    "    print(0)\n",
    "    \n",
    "\n"
   ]
  },
  {
   "cell_type": "markdown",
   "metadata": {},
   "source": [
    "<!-- __here__ -->\n",
    "<hr style=\"border:2px solid gray\">\n",
    "\n",
    "<!-- def sumOfDigits(A):\n",
    "    \"\"\"\n",
    "    :type A: List[int]  # Input: List of positive integers\n",
    "    :rtype: int  # Output: 1 if the sum of digits of the minimal element is even, otherwise 0\n",
    "    \"\"\"\n",
    "    if not A:  # If the input list is empty, return 0\n",
    "        return 0\n",
    "\n",
    "    mini = min(A)  # Find the minimal element in the list\n",
    "    result = 0  # Initialize a variable to store the sum of digits\n",
    "    while mini > 0:\n",
    "        quo = mini % 10  # Get the last digit of the minimal element\n",
    "        rem = mini // 10  # Remove the last digit from the minimal element\n",
    "        result += quo  # Add the last digit to the sum\n",
    "        mini = rem  # Update the minimal element without the last digit\n",
    "\n",
    "    return 1 if result % 2 == 0 else 0  # Return 1 if the sum of digits is even, otherwise return 0 -->"
   ]
  },
  {
   "cell_type": "markdown",
   "metadata": {},
   "source": [
    "## Task - 3\n",
    "### Given an unsorted array of integers, find the length of the longest consecutive elements sequence.\n",
    "\n",
    "```\n",
    "\tExample:\n",
    "\n",
    "\tInput: [100, 4, 200, 1, 3, 2]\n",
    "\tOutput: 4\n",
    "```"
   ]
  },
  {
   "cell_type": "code",
   "execution_count": 33,
   "metadata": {},
   "outputs": [
    {
     "name": "stdout",
     "output_type": "stream",
     "text": [
      "[8, 7, 6, 5, 5, 4, 4, 3, 3, 2, 2, 1, 1, 1]\n",
      "8\n"
     ]
    }
   ],
   "source": [
    "### WRITE YOUR ANSWER HERE #####\n",
    "l=[100, 4, 200, 1, 3, 2,5,101,102,103,104,105,107,106]\n",
    "l.sort()\n",
    "\n",
    "count=0\n",
    "cnt=[]\n",
    "for i in range(len(l)):\n",
    "    x=l[i]\n",
    "    for j in range(len(l)):\n",
    "        \n",
    "        if x==l[j]:\n",
    "            count+=1\n",
    "            x=x+1\n",
    "       \n",
    "            \n",
    "    else:\n",
    "        cnt.insert(0,count)\n",
    "        count=0\n",
    "cnt.sort(reverse=True)\n",
    "print(cnt)\n",
    "print(cnt[0])\n",
    "    \n",
    "        "
   ]
  },
  {
   "cell_type": "markdown",
   "metadata": {},
   "source": [
    "<!-- __here__ -->\n",
    "<hr style=\"border:2px solid gray\">\n",
    "\n",
    "<!-- def longestConsecutive(nums):\n",
    "    \"\"\"\n",
    "    :type nums: List[int]  # Input: Unsorted list of integers\n",
    "    :rtype: int  # Output: Length of the longest consecutive elements sequence\n",
    "    \"\"\"\n",
    "    result = 0  # Initialize a variable to store the length of the longest consecutive sequence\n",
    "    nums = set(nums)  # Convert the input list to a set for faster lookups\n",
    "\n",
    "    for num in nums:\n",
    "        if num-1 not in nums:  # Check if the current number is the start of a consecutive sequence\n",
    "            curr = num  # Initialize a variable to track the current number\n",
    "            length = 1  # Initialize a variable to store the length of the current consecutive sequence\n",
    "\n",
    "            while curr+1 in nums:  # Continue extending the consecutive sequence\n",
    "                curr += 1\n",
    "                length += 1\n",
    "            result = max(result, length)  # Update the result with the maximum length\n",
    "\n",
    "    return result -->"
   ]
  },
  {
   "cell_type": "code",
   "execution_count": 36,
   "metadata": {},
   "outputs": [
    {
     "name": "stdout",
     "output_type": "stream",
     "text": [
      "Enter: Hii Hello\n",
      "{'H': ['Hello', 'Hii']}\n"
     ]
    }
   ],
   "source": [
    "x=input(\"Enter: \")\n",
    "y=x.split()\n",
    "words={}\n",
    "\n",
    "for i in y:\n",
    "    if i[0] in words:#its will iterate for keys of dict.\n",
    "        templist=words.get(i[0])\n",
    "        templist.insert(0,i)\n",
    "        temp={i[0]:templist}\n",
    "    else:  \n",
    "        temp={i[0]:[i]}\n",
    "    words.update(temp)\n",
    "print(words)\n",
    "\n",
    "#Don't wait for your feelings to change to take action. Take the action and your feelings."
   ]
  },
  {
   "cell_type": "code",
   "execution_count": 60,
   "metadata": {},
   "outputs": [
    {
     "name": "stdout",
     "output_type": "stream",
     "text": [
      "[0, 1, 9, 16, 100]\n"
     ]
    }
   ],
   "source": [
    "numbers=[-4,-1,0,3,10]\n",
    "squares=list(map(lambda x:x**2,numbers))\n",
    "squares.sort()\n",
    "print(squares)\n"
   ]
  },
  {
   "cell_type": "code",
   "execution_count": null,
   "metadata": {},
   "outputs": [],
   "source": []
  }
 ],
 "metadata": {
  "kernelspec": {
   "display_name": "Python 3",
   "language": "python",
   "name": "python3"
  },
  "language_info": {
   "codemirror_mode": {
    "name": "ipython",
    "version": 3
   },
   "file_extension": ".py",
   "mimetype": "text/x-python",
   "name": "python",
   "nbconvert_exporter": "python",
   "pygments_lexer": "ipython3",
   "version": "3.8.5"
  }
 },
 "nbformat": 4,
 "nbformat_minor": 4
}
