{
 "cells": [
  {
   "cell_type": "code",
   "execution_count": 41,
   "metadata": {},
   "outputs": [
    {
     "data": {
      "text/plain": [
       "dict"
      ]
     },
     "execution_count": 41,
     "metadata": {},
     "output_type": "execute_result"
    }
   ],
   "source": [
    "x= {1:'Dhruv',2:'Y'}\n",
    "type(x)"
   ]
  },
  {
   "cell_type": "code",
   "execution_count": 44,
   "metadata": {},
   "outputs": [
    {
     "name": "stdout",
     "output_type": "stream",
     "text": [
      "Hello World\n",
      "None\n"
     ]
    }
   ],
   "source": [
    "print(print(\"Hello World\"))"
   ]
  },
  {
   "cell_type": "code",
   "execution_count": 51,
   "metadata": {},
   "outputs": [
    {
     "name": "stdout",
     "output_type": "stream",
     "text": [
      "This is a new line\n"
     ]
    }
   ],
   "source": [
    "print(\"This is\",end=\"\")\n",
    "print(\" a new line\")"
   ]
  },
  {
   "cell_type": "code",
   "execution_count": 57,
   "metadata": {},
   "outputs": [
    {
     "name": "stdout",
     "output_type": "stream",
     "text": [
      "apple\n",
      " banana Cherry\n"
     ]
    }
   ],
   "source": [
    "print(\"apple\",\"banana\",\"Cherry\")\n"
   ]
  },
  {
   "cell_type": "code",
   "execution_count": 247,
   "metadata": {},
   "outputs": [],
   "source": [
    "import this"
   ]
  },
  {
   "cell_type": "code",
   "execution_count": 6,
   "metadata": {},
   "outputs": [
    {
     "name": "stdout",
     "output_type": "stream",
     "text": [
      "My Name Is Dhruv and age is 19.\n"
     ]
    }
   ],
   "source": [
    "name='Dhruv'\n",
    "age=19\n",
    "print(f\"My Name Is {name} and age is {age}.\")"
   ]
  },
  {
   "cell_type": "code",
   "execution_count": 502,
   "metadata": {},
   "outputs": [
    {
     "name": "stdout",
     "output_type": "stream",
     "text": [
      "C:\\Program Files\\Microsoft Office\\Office15\\FORMS\\1033\n"
     ]
    }
   ],
   "source": [
    "print(r\"C:\\Program Files\\Microsoft Office\\Office15\\FORMS\\1033\")"
   ]
  },
  {
   "cell_type": "code",
   "execution_count": 511,
   "metadata": {},
   "outputs": [
    {
     "data": {
      "text/plain": [
       "float"
      ]
     },
     "execution_count": 511,
     "metadata": {},
     "output_type": "execute_result"
    }
   ],
   "source": [
    "a=float(5)\n",
    "type(a)"
   ]
  },
  {
   "cell_type": "code",
   "execution_count": 26,
   "metadata": {},
   "outputs": [
    {
     "name": "stdout",
     "output_type": "stream",
     "text": [
      "2\n"
     ]
    },
    {
     "data": {
      "text/plain": [
       "'Not'"
      ]
     },
     "execution_count": 26,
     "metadata": {},
     "output_type": "execute_result"
    }
   ],
   "source": [
    "a=int(input())\n",
    "#write a program to take three input as number and print the sum of the numbers\n",
    "(\"Ok\")if(a>4)else(\"Not\")\n"
   ]
  },
  {
   "cell_type": "code",
   "execution_count": 9,
   "metadata": {},
   "outputs": [
    {
     "name": "stdout",
     "output_type": "stream",
     "text": [
      "Enter the Length(CM): 1\n",
      "Enter the Radius in CM: 1\n",
      "Enter the Hegith in CM: 1\n",
      "Area Of Cylinder is 6.283 CM square.\n",
      "Volume Of Cylinder is 3.142 CM Cube.\n"
     ]
    }
   ],
   "source": [
    "#write a program to calculate volume and area of a cylinder\n",
    "import math;\n",
    "#Assigning Parameters for Cylinder\n",
    "length=float(input(\"Enter the Length(CM): \"))\n",
    "radius=float(input(\"Enter the Radius in(CM): \"))\n",
    "height=float(input(\"Enter the Hegith in(CM): \"))\n",
    "\n",
    "#Calculating Area of Cylinder\n",
    "area=2*math.pi*radius*height\n",
    "print(f\"Area Of Cylinder is {round(area,3)} CM square.\")\n",
    "\n",
    "#Calculating Volume of Cylinder\n",
    "volume=math.pi*(radius**2)*height\n",
    "print(f\"Volume Of Cylinder is {round(volume,3)} CM Cube.\")\n"
   ]
  },
  {
   "cell_type": "code",
   "execution_count": 8,
   "metadata": {},
   "outputs": [
    {
     "name": "stdout",
     "output_type": "stream",
     "text": [
      "Number Of Days: 398\n",
      "1 years, 1 months, 3 days.\n"
     ]
    }
   ],
   "source": [
    "#Write a program to convert given Numbers of Days into Years,Months and Days.\n",
    "\n",
    "#Taking Input for Number of Days.\n",
    "days=int(input(\"Number Of Days: \"))\n",
    "\n",
    "#Segregation of Days into Years, Months and Days.\n",
    "year=days//365\n",
    "days=days%365\n",
    "month=days//30\n",
    "days=days%30\n",
    "\n",
    "print(f\"{year} years, {month} months, {days} days.\")\n",
    "\n"
   ]
  },
  {
   "cell_type": "markdown",
   "metadata": {},
   "source": [
    "### "
   ]
  },
  {
   "cell_type": "markdown",
   "metadata": {},
   "source": [
    "## Unit 2"
   ]
  },
  {
   "cell_type": "markdown",
   "metadata": {},
   "source": [
    "\n",
    "\n",
    "##  Control Statement"
   ]
  },
  {
   "cell_type": "markdown",
   "metadata": {},
   "source": [
    "### Simple if"
   ]
  },
  {
   "cell_type": "markdown",
   "metadata": {},
   "source": [
    "##### Its Check If th condition is True. and executes the block if the condition is true."
   ]
  },
  {
   "cell_type": "code",
   "execution_count": 15,
   "metadata": {},
   "outputs": [
    {
     "name": "stdout",
     "output_type": "stream",
     "text": [
      "5\n",
      "X is positive\n"
     ]
    }
   ],
   "source": [
    "x=int(input())\n",
    "if x>0:\n",
    "    print(\"X is positive\")"
   ]
  },
  {
   "cell_type": "markdown",
   "metadata": {},
   "source": [
    "## "
   ]
  },
  {
   "cell_type": "markdown",
   "metadata": {},
   "source": [
    "### if else\n"
   ]
  },
  {
   "cell_type": "markdown",
   "metadata": {},
   "source": [
    "##### IF Else Statement Checks the condition is True. and executes one block if the condition is true and another block if condition is false"
   ]
  },
  {
   "cell_type": "code",
   "execution_count": 18,
   "metadata": {},
   "outputs": [
    {
     "name": "stdout",
     "output_type": "stream",
     "text": [
      "-4\n",
      "X is Negative\n"
     ]
    }
   ],
   "source": [
    "x=int(input())\n",
    "if x>0:\n",
    "    print(\"X is positive\")\n",
    "else:\n",
    "    print(\"X is Negative\")"
   ]
  },
  {
   "cell_type": "markdown",
   "metadata": {},
   "source": [
    "### "
   ]
  },
  {
   "cell_type": "markdown",
   "metadata": {},
   "source": [
    "### if elif else\n"
   ]
  },
  {
   "cell_type": "markdown",
   "metadata": {},
   "source": [
    "#### Its Check Multiple Condition in order and exectutes the block corresponding to first true condtion."
   ]
  },
  {
   "cell_type": "code",
   "execution_count": 19,
   "metadata": {},
   "outputs": [
    {
     "name": "stdout",
     "output_type": "stream",
     "text": [
      "0\n",
      "X is Zero\n"
     ]
    }
   ],
   "source": [
    "x=int(input())\n",
    "if x>0:\n",
    "    print(\"X is positive\")\n",
    "elif x==0:\n",
    "    print(\"X is Zero\")\n",
    "else:\n",
    "    print(\"X is Negative\")"
   ]
  },
  {
   "cell_type": "markdown",
   "metadata": {},
   "source": [
    "### Nested if\n"
   ]
  },
  {
   "cell_type": "code",
   "execution_count": 21,
   "metadata": {},
   "outputs": [
    {
     "name": "stdout",
     "output_type": "stream",
     "text": [
      "5\n",
      "Odd\n"
     ]
    }
   ],
   "source": [
    "x=int(input())\n",
    "if x>0:\n",
    "    if x%2==0:\n",
    "        print(\"Even\")\n",
    "    else:\n",
    "        print(\"Odd\")\n",
    "else:\n",
    "    print(\"Non Positive\")"
   ]
  },
  {
   "cell_type": "code",
   "execution_count": 23,
   "metadata": {},
   "outputs": [
    {
     "name": "stdout",
     "output_type": "stream",
     "text": [
      "6\n",
      "X is positive\n"
     ]
    }
   ],
   "source": [
    "#Write a program to check whether the given input is zero, postive or negative.\n",
    "\n",
    "x=int(input())\n",
    "if x>0:\n",
    "    print(\"X is positive\")\n",
    "elif x==0:\n",
    "    print(\"X is Zero\")\n",
    "else:\n",
    "    print(\"X is Negative\")"
   ]
  },
  {
   "cell_type": "code",
   "execution_count": 31,
   "metadata": {},
   "outputs": [
    {
     "name": "stdout",
     "output_type": "stream",
     "text": [
      "Writing example.py\n"
     ]
    }
   ],
   "source": [
    "%%writefile example.py\n",
    "x=int(input(\"Enter 1st Number: \"))\n",
    "y=int(input(\"Enter 2nd Number: \"))\n",
    "z=int(input(\"Enter 3rd Number: \"))\n",
    "if x>y:\n",
    "    if x>z:\n",
    "        print(f\"{x} is Greatest Amongs Three.\")\n",
    "    else:\n",
    "        print(f\"{z} is Greatest Amongs Three.\")\n",
    "else:\n",
    "    if y>z:\n",
    "        print(f\"{y} is Greatest Amongs Three.\")\n",
    "    else:\n",
    "        print(f\"{z} is Greatest Amongs Three.\")\n",
    "    \n",
    "    \n",
    "\n"
   ]
  },
  {
   "cell_type": "code",
   "execution_count": 1,
   "metadata": {},
   "outputs": [
    {
     "ename": "SyntaxError",
     "evalue": "invalid syntax (<ipython-input-1-8c04ecb30b65>, line 5)",
     "output_type": "error",
     "traceback": [
      "\u001b[1;36m  File \u001b[1;32m\"<ipython-input-1-8c04ecb30b65>\"\u001b[1;36m, line \u001b[1;32m5\u001b[0m\n\u001b[1;33m    ifyear%100 !=0:\u001b[0m\n\u001b[1;37m                   ^\u001b[0m\n\u001b[1;31mSyntaxError\u001b[0m\u001b[1;31m:\u001b[0m invalid syntax\n"
     ]
    }
   ],
   "source": [
    "#Write a program to check the year is leap year or not\n",
    "year=int(input(\"Enter Year: \"))\n",
    "\n",
    "if year%4==0:\n",
    "    ifyear%100 !=0:\n",
    "        print(f\")\n",
    "              "
   ]
  },
  {
   "cell_type": "code",
   "execution_count": 4,
   "metadata": {},
   "outputs": [
    {
     "name": "stdout",
     "output_type": "stream",
     "text": [
      "Enter a Number: 12\n",
      "The Number is Divisible by 6 or 3.\n"
     ]
    }
   ],
   "source": [
    "#Write a program if a given number is divisible by 3 and 6\n",
    "number=int(input(\"Enter a Number: \"))\n",
    "if number%6==0:\n",
    "    print(\"The Number is Divisible by 6 or 3.\")\n",
    "else:\n",
    "    print(\"The Number is Not Divisible by 6 or 3.\")"
   ]
  },
  {
   "cell_type": "code",
   "execution_count": 8,
   "metadata": {},
   "outputs": [
    {
     "name": "stdout",
     "output_type": "stream",
     "text": [
      "-Enter '1' To Convert Fahrenheit to Celcius/n-Enter '2' To Convert Celcius to Fahrenheit 2\n",
      "Enter Temprature in Celcius: 32\n",
      " 89.6 Fahrenheit. \n"
     ]
    }
   ],
   "source": [
    "if int(input(\"-Enter '1' To Convert Fahrenheit to Celcius/n-Enter '2' To Convert Celcius to Fahrenheit \"))==1:\n",
    "    fahrenheit=int(input(\"Enter Temprature in Fahrenheit: \"))\n",
    "    celcius=5/9*(fahrenheit-32)\n",
    "    print(f\" {celcius} Celcius. \")\n",
    "else:\n",
    "    celcius=int(input(\"Enter Temprature in Celcius: \"))\n",
    "    fahrenheit=9/5* celcius+32\n",
    "    print(f\" {fahrenheit} Fahrenheit. \")\n",
    "        "
   ]
  },
  {
   "cell_type": "code",
   "execution_count": null,
   "metadata": {},
   "outputs": [],
   "source": []
  }
 ],
 "metadata": {
  "kernelspec": {
   "display_name": "Python 3",
   "language": "python",
   "name": "python3"
  },
  "language_info": {
   "codemirror_mode": {
    "name": "ipython",
    "version": 3
   },
   "file_extension": ".py",
   "mimetype": "text/x-python",
   "name": "python",
   "nbconvert_exporter": "python",
   "pygments_lexer": "ipython3",
   "version": "3.8.5"
  }
 },
 "nbformat": 4,
 "nbformat_minor": 4
}
