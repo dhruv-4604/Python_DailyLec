{
 "cells": [
  {
   "cell_type": "code",
   "execution_count": null,
   "metadata": {},
   "outputs": [],
   "source": [
    "x= {1:'Dhruv',2:'Y'}\n",
    "type(x)"
   ]
  },
  {
   "cell_type": "code",
   "execution_count": null,
   "metadata": {},
   "outputs": [],
   "source": [
    "print(print(\"Hello World\"))"
   ]
  },
  {
   "cell_type": "code",
   "execution_count": null,
   "metadata": {},
   "outputs": [],
   "source": [
    "print(\"This is\",end=\"\")\n",
    "print(\" a new line\")"
   ]
  },
  {
   "cell_type": "code",
   "execution_count": null,
   "metadata": {},
   "outputs": [],
   "source": [
    "print(\"apple\",\"banana\",\"Cherry\")\n"
   ]
  },
  {
   "cell_type": "code",
   "execution_count": null,
   "metadata": {},
   "outputs": [],
   "source": [
    "import this"
   ]
  },
  {
   "cell_type": "code",
   "execution_count": null,
   "metadata": {},
   "outputs": [],
   "source": [
    "name='Dhruv'\n",
    "age=19\n",
    "print(f\"My Name Is {name} and age is {age}.\")"
   ]
  },
  {
   "cell_type": "code",
   "execution_count": null,
   "metadata": {},
   "outputs": [],
   "source": [
    "print(r\"C:\\Program Files\\Microsoft Office\\Office15\\FORMS\\1033\")"
   ]
  },
  {
   "cell_type": "code",
   "execution_count": null,
   "metadata": {},
   "outputs": [],
   "source": [
    "a=float(5)\n",
    "type(a)"
   ]
  },
  {
   "cell_type": "code",
   "execution_count": null,
   "metadata": {},
   "outputs": [],
   "source": [
    "a=int(input())\n",
    "#write a program to take three input as number and print the sum of the numbers\n",
    "(\"Ok\")if(a>4)else(\"Not\")\n"
   ]
  },
  {
   "cell_type": "code",
   "execution_count": null,
   "metadata": {},
   "outputs": [],
   "source": [
    "#write a program to calculate volume and area of a cylinder\n",
    "import math;\n",
    "#Assigning Parameters for Cylinder\n",
    "length=float(input(\"Enter the Length(CM): \"))\n",
    "radius=float(input(\"Enter the Radius in(CM): \"))\n",
    "height=float(input(\"Enter the Hegith in(CM): \"))\n",
    "\n",
    "#Calculating Area of Cylinder\n",
    "area=2*math.pi*radius*height\n",
    "print(f\"Area Of Cylinder is {round(area,3)} CM square.\")\n",
    "\n",
    "#Calculating Volume of Cylinder\n",
    "volume=math.pi*(radius**2)*height\n",
    "print(f\"Volume Of Cylinder is {round(volume,3)} CM Cube.\")\n"
   ]
  },
  {
   "cell_type": "code",
   "execution_count": null,
   "metadata": {},
   "outputs": [],
   "source": [
    "#Write a program to convert given Numbers of Days into Years,Months and Days.\n",
    "\n",
    "#Taking Input for Number of Days.\n",
    "days=int(input(\"Number Of Days: \"))\n",
    "\n",
    "#Segregation of Days into Years, Months and Days.\n",
    "year=days//365\n",
    "days=days%365\n",
    "month=days//30\n",
    "days=days%30\n",
    "\n",
    "print(f\"{year} years, {month} months, {days} days.\")\n",
    "\n"
   ]
  },
  {
   "cell_type": "markdown",
   "metadata": {},
   "source": [
    "### "
   ]
  },
  {
   "cell_type": "markdown",
   "metadata": {},
   "source": [
    "## Unit 2"
   ]
  },
  {
   "cell_type": "markdown",
   "metadata": {},
   "source": [
    "\n",
    "\n",
    "##  Control Statement"
   ]
  },
  {
   "cell_type": "markdown",
   "metadata": {},
   "source": [
    "### Simple if"
   ]
  },
  {
   "cell_type": "markdown",
   "metadata": {},
   "source": [
    "##### Its Check If th condition is True. and executes the block if the condition is true."
   ]
  },
  {
   "cell_type": "code",
   "execution_count": null,
   "metadata": {},
   "outputs": [],
   "source": [
    "x=int(input())\n",
    "if x>0:\n",
    "    print(\"X is positive\")"
   ]
  },
  {
   "cell_type": "markdown",
   "metadata": {},
   "source": [
    "## "
   ]
  },
  {
   "cell_type": "markdown",
   "metadata": {},
   "source": [
    "### if else\n"
   ]
  },
  {
   "cell_type": "markdown",
   "metadata": {},
   "source": [
    "##### IF Else Statement Checks the condition is True. and executes one block if the condition is true and another block if condition is false"
   ]
  },
  {
   "cell_type": "code",
   "execution_count": null,
   "metadata": {},
   "outputs": [],
   "source": [
    "x=int(input())\n",
    "if x>0:\n",
    "    print(\"X is positive\")\n",
    "else:\n",
    "    print(\"X is Negative\")"
   ]
  },
  {
   "cell_type": "markdown",
   "metadata": {},
   "source": [
    "### "
   ]
  },
  {
   "cell_type": "markdown",
   "metadata": {},
   "source": [
    "### if elif else\n"
   ]
  },
  {
   "cell_type": "markdown",
   "metadata": {},
   "source": [
    "#### Its Check Multiple Condition in order and exectutes the block corresponding to first true condtion."
   ]
  },
  {
   "cell_type": "code",
   "execution_count": null,
   "metadata": {},
   "outputs": [],
   "source": [
    "x=int(input())\n",
    "if x>0:\n",
    "    print(\"X is positive\")\n",
    "elif x==0:\n",
    "    print(\"X is Zero\")\n",
    "else:\n",
    "    print(\"X is Negative\")"
   ]
  },
  {
   "cell_type": "markdown",
   "metadata": {},
   "source": [
    "### Nested if\n"
   ]
  },
  {
   "cell_type": "code",
   "execution_count": null,
   "metadata": {},
   "outputs": [],
   "source": [
    "x=int(input())\n",
    "if x>0:\n",
    "    if x%2==0:\n",
    "        print(\"Even\")\n",
    "    else:\n",
    "        print(\"Odd\")\n",
    "else:\n",
    "    print(\"Non Positive\")"
   ]
  },
  {
   "cell_type": "code",
   "execution_count": null,
   "metadata": {},
   "outputs": [],
   "source": [
    "#Write a program to check whether the given input is zero, postive or negative.\n",
    "\n",
    "x=int(input())\n",
    "if x>0:\n",
    "    print(\"X is positive\")\n",
    "elif x==0:\n",
    "    print(\"X is Zero\")\n",
    "else:\n",
    "    print(\"X is Negative\")"
   ]
  },
  {
   "cell_type": "code",
   "execution_count": null,
   "metadata": {},
   "outputs": [],
   "source": [
    "%%writefile example.py\n",
    "x=int(input(\"Enter 1st Number: \"))\n",
    "y=int(input(\"Enter 2nd Number: \"))\n",
    "z=int(input(\"Enter 3rd Number: \"))\n",
    "if x>y:\n",
    "    if x>z:\n",
    "        print(f\"{x} is Greatest Amongs Three.\")\n",
    "    else:\n",
    "        print(f\"{z} is Greatest Amongs Three.\")\n",
    "else:\n",
    "    if y>z:\n",
    "        print(f\"{y} is Greatest Amongs Three.\")\n",
    "    else:\n",
    "        print(f\"{z} is Greatest Amongs Three.\")\n",
    "    \n",
    "    \n",
    "\n"
   ]
  },
  {
   "cell_type": "code",
   "execution_count": null,
   "metadata": {},
   "outputs": [],
   "source": [
    "#Write a program to check the year is leap year or not\n",
    "year=int(input(\"Enter Year: \"))\n",
    "\n",
    "if year%4==0:\n",
    "    ifyear%100 !=0:\n",
    "        print(f\")\n",
    "              "
   ]
  },
  {
   "cell_type": "code",
   "execution_count": null,
   "metadata": {},
   "outputs": [],
   "source": [
    "#Write a program if a given number is divisible by 3 and 6\n",
    "number=int(input(\"Enter a Number: \"))\n",
    "if number%6==0:\n",
    "    print(\"The Number is Divisible by 6 or 3.\")\n",
    "else:\n",
    "    print(\"The Number is Not Divisible by 6 or 3.\")"
   ]
  },
  {
   "cell_type": "code",
   "execution_count": null,
   "metadata": {},
   "outputs": [],
   "source": [
    "if int(input(\"-Enter '1' To Convert Fahrenheit to Celcius/n-Enter '2' To Convert Celcius to Fahrenheit \"))==1:\n",
    "    fahrenheit=int(input(\"Enter Temprature in Fahrenheit: \"))\n",
    "    celcius=5/9*(fahrenheit-32)\n",
    "    print(f\" {celcius} Celcius. \")\n",
    "else:\n",
    "    celcius=int(input(\"Enter Temprature in Celcius: \"))\n",
    "    fahrenheit=9/5* celcius+32\n",
    "    print(f\" {fahrenheit} Fahrenheit. \")\n",
    "        "
   ]
  },
  {
   "cell_type": "markdown",
   "metadata": {},
   "source": [
    "#### "
   ]
  },
  {
   "cell_type": "markdown",
   "metadata": {},
   "source": [
    "## Loops\n"
   ]
  },
  {
   "cell_type": "markdown",
   "metadata": {},
   "source": [
    "### while loop\n"
   ]
  },
  {
   "cell_type": "code",
   "execution_count": null,
   "metadata": {},
   "outputs": [],
   "source": [
    "count=0\n",
    "while count<6:\n",
    "    print(count)\n",
    "    count+=1\n",
    "    if count==4:\n",
    "        break\n",
    "else:\n",
    "    print(\"Loop Completed without break.\")\n",
    "print(\"Ok\")\n",
    "    ##else is optional.(inside loop if their is any break then else will not execute)"
   ]
  },
  {
   "cell_type": "markdown",
   "metadata": {},
   "source": [
    "#### https://pythontutor.com/ (To Visualize the code)"
   ]
  },
  {
   "cell_type": "markdown",
   "metadata": {},
   "source": [
    "#### pyflowchart (To generate flowchat from code)"
   ]
  },
  {
   "cell_type": "markdown",
   "metadata": {},
   "source": [
    "### for loop"
   ]
  },
  {
   "cell_type": "code",
   "execution_count": null,
   "metadata": {},
   "outputs": [],
   "source": [
    "for i in 'hello python':\n",
    "    if i==' ':\n",
    "        break\n",
    "    print(i,end=\"\")\n",
    "else:\n",
    "    print(\"loop is completed without break.\")"
   ]
  },
  {
   "cell_type": "code",
   "execution_count": null,
   "metadata": {
    "slideshow": {
     "slide_type": "subslide"
    }
   },
   "outputs": [],
   "source": [
    "list(range(1,10,2))"
   ]
  },
  {
   "cell_type": "code",
   "execution_count": null,
   "metadata": {},
   "outputs": [],
   "source": [
    "\n",
    "for z in 'hello python':\n",
    "    if z==' ':\n",
    "        break\n",
    "    print(z,end=\"\")\n",
    "else:\n",
    "    print(\"loop is completed without break.\")"
   ]
  },
  {
   "cell_type": "code",
   "execution_count": null,
   "metadata": {},
   "outputs": [],
   "source": [
    "#write a program to print even numbers from 1-20 inclusive in reverse order.\n",
    "for i in range(20,1,-2):\n",
    "          print(i, end=\", \")\n",
    "\n",
    "#using while\n",
    "print()\n",
    "i=20\n",
    "while i>1:\n",
    "    print(i,end=\", \")\n",
    "    i=i-2\n",
    "    "
   ]
  },
  {
   "cell_type": "code",
   "execution_count": null,
   "metadata": {},
   "outputs": [],
   "source": [
    "#write a program to find the sum of first 20 natural number\n",
    "sum=0\n",
    "for i in range(1,21):\n",
    "         sum=sum+i\n",
    "print(f\"Sum of 1-20 is {sum}.\")\n",
    "\n"
   ]
  },
  {
   "cell_type": "code",
   "execution_count": null,
   "metadata": {},
   "outputs": [],
   "source": [
    "#write a program to find the sum from 1 to the max range which will be input by the user\n",
    "sum=0\n",
    "for i in range(1,1+int(input(\"Enter Max Range: \"))):\n",
    "         sum=sum+i\n",
    "print(f\"Sum is {sum}.\")"
   ]
  },
  {
   "cell_type": "code",
   "execution_count": null,
   "metadata": {},
   "outputs": [],
   "source": [
    "#print 0 to 6 number except 3 and 4\n",
    "for i in range(0,7):\n",
    "    if i==3 or i==4:\n",
    "        continue\n",
    "    print(i,end=\", \")\n",
    "\n",
    "print()\n",
    "for i in range(0,7):\n",
    "    if i==3 or i==4:\n",
    "        print(end=\"\")\n",
    "    else:\n",
    "        print(i,end=\", \")"
   ]
  },
  {
   "cell_type": "code",
   "execution_count": null,
   "metadata": {},
   "outputs": [],
   "source": [
    "#write a program to print 15 table\n",
    "for i in range(1,11):\n",
    "        print(f\"15 x {i} = {i*15}\")\n",
    "\n"
   ]
  },
  {
   "cell_type": "code",
   "execution_count": null,
   "metadata": {},
   "outputs": [],
   "source": [
    "#write a program to print 15 table\n",
    "mul=int(input(\"Enter The Number To Display it's Multiplication Table: \"))\n",
    "for i in range(1,11):\n",
    "    print(f\"{mul} x {i} = {i*mul}\")\n"
   ]
  },
  {
   "cell_type": "code",
   "execution_count": null,
   "metadata": {},
   "outputs": [],
   "source": [
    "for i in range(6):\n",
    "    ... \n",
    "    pass\n",
    "else:\n",
    "    print(\"Hi\")"
   ]
  },
  {
   "cell_type": "code",
   "execution_count": null,
   "metadata": {},
   "outputs": [],
   "source": [
    "a=0\n",
    "b=1\n",
    "print(a)\n",
    "for i in range(11):\n",
    "    c=a+b\n",
    "    a=b\n",
    "    b=c\n",
    "    print(a)"
   ]
  },
  {
   "cell_type": "code",
   "execution_count": 13,
   "metadata": {},
   "outputs": [
    {
     "name": "stdout",
     "output_type": "stream",
     "text": [
      "Enter Number to find it's Factorial: 6\n",
      "Factorial: 720\n"
     ]
    }
   ],
   "source": [
    "i=int(input(\"Enter Number to find it's Factorial: \"))\n",
    "if i>0:\n",
    "    fact=1\n",
    "    while i!=1:    \n",
    "        fact=fact*i\n",
    "        i-=1\n",
    "    print(f\"Factorial: {fact}\")\n",
    "elif i==0:\n",
    "    print(f\"Factorial: 1\")\n",
    "else:\n",
    "    print(\"Not Exist\")\n",
    "\n",
    "    \n",
    "\n",
    "    "
   ]
  },
  {
   "cell_type": "code",
   "execution_count": null,
   "metadata": {},
   "outputs": [],
   "source": []
  }
 ],
 "metadata": {
  "kernelspec": {
   "display_name": "Python 3",
   "language": "python",
   "name": "python3"
  },
  "language_info": {
   "codemirror_mode": {
    "name": "ipython",
    "version": 3
   },
   "file_extension": ".py",
   "mimetype": "text/x-python",
   "name": "python",
   "nbconvert_exporter": "python",
   "pygments_lexer": "ipython3",
   "version": "3.8.5"
  }
 },
 "nbformat": 4,
 "nbformat_minor": 4
}
