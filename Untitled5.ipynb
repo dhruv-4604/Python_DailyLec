{
 "cells": [
  {
   "cell_type": "code",
   "execution_count": null,
   "metadata": {},
   "outputs": [],
   "source": [
    "x= {1:'Dhruv',2:'Y'}\n",
    "type(x)"
   ]
  },
  {
   "cell_type": "code",
   "execution_count": null,
   "metadata": {},
   "outputs": [],
   "source": [
    "print(print(\"Hello World\"))"
   ]
  },
  {
   "cell_type": "code",
   "execution_count": null,
   "metadata": {},
   "outputs": [],
   "source": [
    "print(\"This is\",end=\"\")\n",
    "print(\" a new line\")"
   ]
  },
  {
   "cell_type": "code",
   "execution_count": null,
   "metadata": {},
   "outputs": [],
   "source": [
    "print(\"apple\",\"banana\",\"Cherry\")\n"
   ]
  },
  {
   "cell_type": "code",
   "execution_count": null,
   "metadata": {},
   "outputs": [],
   "source": [
    "import this"
   ]
  },
  {
   "cell_type": "code",
   "execution_count": null,
   "metadata": {},
   "outputs": [],
   "source": [
    "name='Dhruv'\n",
    "age=19\n",
    "print(f\"My Name Is {name} and age is {age}.\")"
   ]
  },
  {
   "cell_type": "code",
   "execution_count": null,
   "metadata": {},
   "outputs": [],
   "source": [
    "print(r\"C:\\Program Files\\Microsoft Office\\Office15\\FORMS\\1033\")"
   ]
  },
  {
   "cell_type": "code",
   "execution_count": null,
   "metadata": {},
   "outputs": [],
   "source": [
    "a=float(5)\n",
    "type(a)"
   ]
  },
  {
   "cell_type": "code",
   "execution_count": null,
   "metadata": {},
   "outputs": [],
   "source": [
    "a=int(input())\n",
    "#write a program to take three input as number and print the sum of the numbers\n",
    "(\"Ok\")if(a>4)else(\"Not\")\n"
   ]
  },
  {
   "cell_type": "code",
   "execution_count": null,
   "metadata": {},
   "outputs": [],
   "source": [
    "#write a program to calculate volume and area of a cylinder\n",
    "import math;\n",
    "#Assigning Parameters for Cylinder\n",
    "length=float(input(\"Enter the Length(CM): \"))\n",
    "radius=float(input(\"Enter the Radius in(CM): \"))\n",
    "height=float(input(\"Enter the Hegith in(CM): \"))\n",
    "\n",
    "#Calculating Area of Cylinder\n",
    "area=2*math.pi*radius*height\n",
    "print(f\"Area Of Cylinder is {round(area,3)} CM square.\")\n",
    "\n",
    "#Calculating Volume of Cylinder\n",
    "volume=math.pi*(radius**2)*height\n",
    "print(f\"Volume Of Cylinder is {round(volume,3)} CM Cube.\")\n"
   ]
  },
  {
   "cell_type": "code",
   "execution_count": null,
   "metadata": {},
   "outputs": [],
   "source": [
    "#Write a program to convert given Numbers of Days into Years,Months and Days.\n",
    "\n",
    "#Taking Input for Number of Days.\n",
    "days=int(input(\"Number Of Days: \"))\n",
    "\n",
    "#Segregation of Days into Years, Months and Days.\n",
    "year=days//365\n",
    "days=days%365\n",
    "month=days//30\n",
    "days=days%30\n",
    "\n",
    "print(f\"{year} years, {month} months, {days} days.\")\n",
    "\n"
   ]
  },
  {
   "cell_type": "markdown",
   "metadata": {},
   "source": [
    "### "
   ]
  },
  {
   "cell_type": "markdown",
   "metadata": {},
   "source": [
    "## Unit 2"
   ]
  },
  {
   "cell_type": "markdown",
   "metadata": {},
   "source": [
    "\n",
    "\n",
    "##  Control Statement"
   ]
  },
  {
   "cell_type": "markdown",
   "metadata": {},
   "source": [
    "### Simple if"
   ]
  },
  {
   "cell_type": "markdown",
   "metadata": {},
   "source": [
    "##### Its Check If th condition is True. and executes the block if the condition is true."
   ]
  },
  {
   "cell_type": "code",
   "execution_count": null,
   "metadata": {},
   "outputs": [],
   "source": [
    "x=int(input())\n",
    "if x>0:\n",
    "    print(\"X is positive\")"
   ]
  },
  {
   "cell_type": "markdown",
   "metadata": {},
   "source": [
    "## "
   ]
  },
  {
   "cell_type": "markdown",
   "metadata": {},
   "source": [
    "### if else\n"
   ]
  },
  {
   "cell_type": "markdown",
   "metadata": {},
   "source": [
    "##### IF Else Statement Checks the condition is True. and executes one block if the condition is true and another block if condition is false"
   ]
  },
  {
   "cell_type": "code",
   "execution_count": null,
   "metadata": {},
   "outputs": [],
   "source": [
    "x=int(input())\n",
    "if x>0:\n",
    "    print(\"X is positive\")\n",
    "else:\n",
    "    print(\"X is Negative\")"
   ]
  },
  {
   "cell_type": "markdown",
   "metadata": {},
   "source": [
    "### "
   ]
  },
  {
   "cell_type": "markdown",
   "metadata": {},
   "source": [
    "### if elif else\n"
   ]
  },
  {
   "cell_type": "markdown",
   "metadata": {},
   "source": [
    "#### Its Check Multiple Condition in order and exectutes the block corresponding to first true condtion."
   ]
  },
  {
   "cell_type": "code",
   "execution_count": null,
   "metadata": {},
   "outputs": [],
   "source": [
    "x=int(input())\n",
    "if x>0:\n",
    "    print(\"X is positive\")\n",
    "elif x==0:\n",
    "    print(\"X is Zero\")\n",
    "else:\n",
    "    print(\"X is Negative\")"
   ]
  },
  {
   "cell_type": "markdown",
   "metadata": {},
   "source": [
    "### Nested if\n"
   ]
  },
  {
   "cell_type": "code",
   "execution_count": null,
   "metadata": {},
   "outputs": [],
   "source": [
    "x=int(input())\n",
    "if x>0:\n",
    "    if x%2==0:\n",
    "        print(\"Even\")\n",
    "    else:\n",
    "        print(\"Odd\")\n",
    "else:\n",
    "    print(\"Non Positive\")"
   ]
  },
  {
   "cell_type": "code",
   "execution_count": null,
   "metadata": {},
   "outputs": [],
   "source": [
    "#Write a program to check whether the given input is zero, postive or negative.\n",
    "\n",
    "x=int(input())\n",
    "if x>0:\n",
    "    print(\"X is positive\")\n",
    "elif x==0:\n",
    "    print(\"X is Zero\")\n",
    "else:\n",
    "    print(\"X is Negative\")"
   ]
  },
  {
   "cell_type": "code",
   "execution_count": null,
   "metadata": {},
   "outputs": [],
   "source": [
    "%%writefile example.py\n",
    "x=int(input(\"Enter 1st Number: \"))\n",
    "y=int(input(\"Enter 2nd Number: \"))\n",
    "z=int(input(\"Enter 3rd Number: \"))\n",
    "if x>y:\n",
    "    if x>z:\n",
    "        print(f\"{x} is Greatest Amongs Three.\")\n",
    "    else:\n",
    "        print(f\"{z} is Greatest Amongs Three.\")\n",
    "else:\n",
    "    if y>z:\n",
    "        print(f\"{y} is Greatest Amongs Three.\")\n",
    "    else:\n",
    "        print(f\"{z} is Greatest Amongs Three.\")\n",
    "    \n",
    "    \n",
    "\n"
   ]
  },
  {
   "cell_type": "code",
   "execution_count": null,
   "metadata": {},
   "outputs": [],
   "source": [
    "#Write a program to check the year is leap year or not\n",
    "year=int(input(\"Enter Year: \"))\n",
    "\n",
    "if year%4==0:\n",
    "    ifyear%100 !=0:\n",
    "        print(f\")\n",
    "              "
   ]
  },
  {
   "cell_type": "code",
   "execution_count": null,
   "metadata": {},
   "outputs": [],
   "source": [
    "#Write a program if a given number is divisible by 3 and 6\n",
    "number=int(input(\"Enter a Number: \"))\n",
    "if number%6==0:\n",
    "    print(\"The Number is Divisible by 6 or 3.\")\n",
    "else:\n",
    "    print(\"The Number is Not Divisible by 6 or 3.\")"
   ]
  },
  {
   "cell_type": "code",
   "execution_count": null,
   "metadata": {},
   "outputs": [],
   "source": [
    "if int(input(\"-Enter '1' To Convert Fahrenheit to Celcius/n-Enter '2' To Convert Celcius to Fahrenheit \"))==1:\n",
    "    fahrenheit=int(input(\"Enter Temprature in Fahrenheit: \"))\n",
    "    celcius=5/9*(fahrenheit-32)\n",
    "    print(f\" {celcius} Celcius. \")\n",
    "else:\n",
    "    celcius=int(input(\"Enter Temprature in Celcius: \"))\n",
    "    fahrenheit=9/5* celcius+32\n",
    "    print(f\" {fahrenheit} Fahrenheit. \")\n",
    "        "
   ]
  },
  {
   "cell_type": "markdown",
   "metadata": {},
   "source": [
    "#### "
   ]
  },
  {
   "cell_type": "markdown",
   "metadata": {},
   "source": [
    "## Loops\n"
   ]
  },
  {
   "cell_type": "markdown",
   "metadata": {},
   "source": [
    "### while loop\n"
   ]
  },
  {
   "cell_type": "code",
   "execution_count": null,
   "metadata": {},
   "outputs": [],
   "source": [
    "count=0\n",
    "while count<6:\n",
    "    print(count)\n",
    "    count+=1\n",
    "    if count==4:\n",
    "        break\n",
    "else:\n",
    "    print(\"Loop Completed without break.\")\n",
    "print(\"Ok\")\n",
    "    ##else is optional.(inside loop if their is any break then else will not execute)"
   ]
  },
  {
   "cell_type": "markdown",
   "metadata": {},
   "source": [
    "#### https://pythontutor.com/ (To Visualize the code)"
   ]
  },
  {
   "cell_type": "markdown",
   "metadata": {},
   "source": [
    "#### pyflowchart (To generate flowchat from code)"
   ]
  },
  {
   "cell_type": "markdown",
   "metadata": {},
   "source": [
    "### for loop"
   ]
  },
  {
   "cell_type": "code",
   "execution_count": null,
   "metadata": {},
   "outputs": [],
   "source": [
    "for i in 'hello python':\n",
    "    if i==' ':\n",
    "        break\n",
    "    print(i,end=\"\")\n",
    "else:\n",
    "    print(\"loop is completed without break.\")"
   ]
  },
  {
   "cell_type": "code",
   "execution_count": null,
   "metadata": {
    "slideshow": {
     "slide_type": "subslide"
    }
   },
   "outputs": [],
   "source": [
    "list(range(1,10,2))"
   ]
  },
  {
   "cell_type": "code",
   "execution_count": null,
   "metadata": {},
   "outputs": [],
   "source": [
    "\n",
    "for z in 'hello python':\n",
    "    if z==' ':\n",
    "        break\n",
    "    print(z,end=\"\")\n",
    "else:\n",
    "    print(\"loop is completed without break.\")"
   ]
  },
  {
   "cell_type": "code",
   "execution_count": null,
   "metadata": {},
   "outputs": [],
   "source": [
    "#write a program to print even numbers from 1-20 inclusive in reverse order.\n",
    "for i in range(20,1,-2):\n",
    "          print(i, end=\", \")\n",
    "\n",
    "#using while\n",
    "print()\n",
    "i=20\n",
    "while i>1:\n",
    "    print(i,end=\", \")\n",
    "    i=i-2\n",
    "    "
   ]
  },
  {
   "cell_type": "code",
   "execution_count": null,
   "metadata": {},
   "outputs": [],
   "source": [
    "#write a program to find the sum of first 20 natural number\n",
    "sum=0\n",
    "for i in range(1,21):\n",
    "         sum=sum+i\n",
    "print(f\"Sum of 1-20 is {sum}.\")\n",
    "\n"
   ]
  },
  {
   "cell_type": "code",
   "execution_count": null,
   "metadata": {},
   "outputs": [],
   "source": [
    "#write a program to find the sum from 1 to the max range which will be input by the user\n",
    "sum=0\n",
    "for i in range(1,1+int(input(\"Enter Max Range: \"))):\n",
    "         sum=sum+i\n",
    "print(f\"Sum is {sum}.\")"
   ]
  },
  {
   "cell_type": "code",
   "execution_count": null,
   "metadata": {},
   "outputs": [],
   "source": [
    "#print 0 to 6 number except 3 and 4\n",
    "for i in range(0,7):\n",
    "    if i==3 or i==4:\n",
    "        continue\n",
    "    print(i,end=\", \")\n",
    "\n",
    "print()\n",
    "for i in range(0,7):\n",
    "    if i==3 or i==4:\n",
    "        print(end=\"\")\n",
    "    else:\n",
    "        print(i,end=\", \")"
   ]
  },
  {
   "cell_type": "code",
   "execution_count": null,
   "metadata": {},
   "outputs": [],
   "source": [
    "#write a program to print 15 table\n",
    "for i in range(1,11):\n",
    "        print(f\"15 x {i} = {i*15}\")\n",
    "\n"
   ]
  },
  {
   "cell_type": "code",
   "execution_count": null,
   "metadata": {},
   "outputs": [],
   "source": [
    "#write a program to print 15 table\n",
    "mul=int(input(\"Enter The Number To Display it's Multiplication Table: \"))\n",
    "for i in range(1,11):\n",
    "    print(f\"{mul} x {i} = {i*mul}\")\n"
   ]
  },
  {
   "cell_type": "code",
   "execution_count": null,
   "metadata": {},
   "outputs": [],
   "source": [
    "for i in range(6):\n",
    "    ... \n",
    "    pass\n",
    "else:\n",
    "    print(\"Hi\")"
   ]
  },
  {
   "cell_type": "code",
   "execution_count": null,
   "metadata": {},
   "outputs": [],
   "source": [
    "a=0\n",
    "b=1\n",
    "print(a)\n",
    "for i in range(11):\n",
    "    c=a+b\n",
    "    a=b\n",
    "    b=c\n",
    "    print(a)"
   ]
  },
  {
   "cell_type": "code",
   "execution_count": null,
   "metadata": {},
   "outputs": [],
   "source": [
    "i=int(input(\"Enter Number to find it's Factorial: \"))\n",
    "if i>0:\n",
    "    fact=1\n",
    "    while i!=1:    \n",
    "        fact=fact*i\n",
    "        i-=1\n",
    "    print(f\"Factorial: {fact}\")\n",
    "elif i==0:\n",
    "    print(f\"Factorial: 1\")\n",
    "else:\n",
    "    print(\"Not Exist\")\n",
    "\n",
    "    \n",
    "\n",
    "    "
   ]
  },
  {
   "cell_type": "code",
   "execution_count": null,
   "metadata": {},
   "outputs": [],
   "source": [
    "### write a program to print avg of 10 numbers given by the user.\n",
    "sum=0;\n",
    "for i in range(1,11):\n",
    "    sum=sum+int(input(f\"Enter Value {i}: \"))\n",
    "print(f\"Avg of 10 numbers is {sum/10}\")\n",
    "\n"
   ]
  },
  {
   "cell_type": "code",
   "execution_count": null,
   "metadata": {},
   "outputs": [],
   "source": [
    "#write a program to read three numbers from the users (a,b,c) and check how many numbers between a and b are divisible by c.\n",
    "a=int(input(\"Enter Value of A: \"))\n",
    "b=int(input(\"Enter Value of B: \"))\n",
    "c=int(input(\"Enter Value of C: \"))\n",
    "count=0;\n",
    "for i in range(a+1,b):\n",
    "    if i%c==0:\n",
    "     count=count+1\n",
    "print(f\"There is {count} Numbers between {a} and {b} is divisible by {c}.\")"
   ]
  },
  {
   "cell_type": "code",
   "execution_count": null,
   "metadata": {},
   "outputs": [],
   "source": [
    "#write a program to reverse it.\n",
    "\n",
    "number=int(input(\"Enter A Number to Reverse: \"))\n",
    "reverse=0\n",
    "while number!=0:\n",
    "    reverse=reverse*10\n",
    "    reverse=(reverse*10)+number%10\n",
    "    number=number//10\n",
    "    \n",
    "\n",
    "print(f\"The reversed Number is {reverse}\")"
   ]
  },
  {
   "cell_type": "code",
   "execution_count": null,
   "metadata": {},
   "outputs": [],
   "source": [
    "#write a program to check number is armstrong or not\n",
    "number=int(input(\"Enter A Number to Check (must be 3 digit): \"))\n",
    "check=number\n",
    "check_number=0\n",
    "while number!=0:\n",
    "    check_number=check_number+((number%10)**3)\n",
    "    number=number//10\n",
    "if check==check_number:\n",
    "    print(\"The Number is Armstrong Number.\")\n",
    "else:\n",
    "    print(f\"The Number is not an Armstrong Number.\")"
   ]
  },
  {
   "cell_type": "code",
   "execution_count": null,
   "metadata": {},
   "outputs": [],
   "source": [
    "#Write a program to check \n",
    "count_odd=0\n",
    "count_even=0\n",
    "sum_odd=0\n",
    "sum_even=0\n",
    "for i in range(1,1+int(input(\"How Many Values You Want To Insert: \"))):\n",
    "    temp=int(input(f\"Enter  {i} Value: \"))\n",
    "    if temp%2==0:\n",
    "        sum_even=sum_even+temp\n",
    "        count_even=count_even+1\n",
    "    else:\n",
    "        sum_odd=sum_odd+temp\n",
    "        count_odd=count_odd+1\n",
    "print(f\"Their is {count_even} Even and {count_odd} Odd Numbers. The sum of Even Numbers is {sum_even} and Odd Numbers is {sum_odd} \")"
   ]
  },
  {
   "cell_type": "markdown",
   "metadata": {},
   "source": [
    "## FUNCTION, SCOPING & ABSTRACTION"
   ]
  },
  {
   "cell_type": "markdown",
   "metadata": {},
   "source": [
    "### Function Defination (delcaration) & Calling"
   ]
  },
  {
   "cell_type": "code",
   "execution_count": null,
   "metadata": {},
   "outputs": [],
   "source": [
    "def greet():\n",
    "    print(\"Hello Python\")\n",
    "    return \"Returned\"\n",
    "\n",
    "print(greet())"
   ]
  },
  {
   "cell_type": "markdown",
   "metadata": {},
   "source": [
    "#### Functions Takes an Input performs computation and produces an output. their are three type of function \n",
    "1. Built In Functions\n",
    "2. Anonymous\n",
    "3. "
   ]
  },
  {
   "cell_type": "markdown",
   "metadata": {},
   "source": [
    "### Function's Specification"
   ]
  },
  {
   "cell_type": "code",
   "execution_count": null,
   "metadata": {},
   "outputs": [],
   "source": [
    "def add(x,y):\n",
    "    \"\"\"\n",
    "    This Function adds  X & Y\n",
    "    Parameters:\n",
    "    x=int\n",
    "    y=int\n",
    "    This Output is x+y\n",
    "    \"\"\"\n",
    "    return x+y\n"
   ]
  },
  {
   "cell_type": "code",
   "execution_count": null,
   "metadata": {},
   "outputs": [],
   "source": [
    "help(add)"
   ]
  },
  {
   "cell_type": "markdown",
   "metadata": {},
   "source": [
    "### Functions with Parameters"
   ]
  },
  {
   "cell_type": "code",
   "execution_count": null,
   "metadata": {},
   "outputs": [],
   "source": [
    "add(1,4,5)"
   ]
  },
  {
   "cell_type": "code",
   "execution_count": null,
   "metadata": {},
   "outputs": [],
   "source": [
    "def add(x,y):\n",
    "    return x*y\n"
   ]
  },
  {
   "cell_type": "code",
   "execution_count": null,
   "metadata": {},
   "outputs": [],
   "source": [
    "add(3,2)"
   ]
  },
  {
   "cell_type": "code",
   "execution_count": null,
   "metadata": {},
   "outputs": [],
   "source": [
    "#write a function to give multiple outputs\n",
    "def fun(x,y):\n",
    "    return x+y,x-y,x*y,x/y,x%y,x**y"
   ]
  },
  {
   "cell_type": "code",
   "execution_count": null,
   "metadata": {},
   "outputs": [],
   "source": [
    "x=fun(1,2)\n",
    "print(\"Add : \",fun(1,2)[0])\n",
    "print(\"Sub : \",fun(1,2)[1])\n",
    "print(\"Mul : \",fun(1,2)[2])\n",
    "print(\"Div : \",fun(1,2)[3])\n",
    "print(\"Mod : \",fun(1,2)[4])\n",
    "print(\"Pow : \",fun(1,2)[5])"
   ]
  },
  {
   "cell_type": "markdown",
   "metadata": {},
   "source": [
    "### Types Of Arguments:\n",
    "    1. Default Argument\n",
    "    2. Positional Argument\n",
    "    3. Keyword Argument\n",
    "    4. variable length Argument"
   ]
  },
  {
   "cell_type": "code",
   "execution_count": null,
   "metadata": {},
   "outputs": [],
   "source": [
    "#Default Argument\n",
    "def square(x=10):\n",
    "    print(x*x)\n",
    "\n",
    "square(5)"
   ]
  },
  {
   "cell_type": "code",
   "execution_count": null,
   "metadata": {},
   "outputs": [],
   "source": [
    "#Positional Argument\n",
    "def sub(x,y):\n",
    "    return x-y\n",
    "sub(200,50)"
   ]
  },
  {
   "cell_type": "markdown",
   "metadata": {},
   "source": [
    "#### Keyword Argument\n",
    "We can Pass Argument Values by keyword here the order is not important but the number of arguemnt should be match. we can use both postional and keyword argument but first we have to take 1st postional argument and then keyword argument otherwise we will get syntax error."
   ]
  },
  {
   "cell_type": "code",
   "execution_count": null,
   "metadata": {},
   "outputs": [],
   "source": [
    "def wish(name,msg):\n",
    "    print(\"Hello\",name,msg)\n",
    "    "
   ]
  },
  {
   "cell_type": "code",
   "execution_count": null,
   "metadata": {},
   "outputs": [],
   "source": [
    "wish(msg=\"Hi\",\"Java\")"
   ]
  },
  {
   "cell_type": "markdown",
   "metadata": {},
   "source": [
    "#### Variable Length Argument\n",
    "In some cases we need variable number of argument in our function in that case we can declare a variable length argument with \" * \" "
   ]
  },
  {
   "cell_type": "code",
   "execution_count": null,
   "metadata": {},
   "outputs": [],
   "source": [
    "def sum(*n): #*n called varaible positional argument type- tuple\n",
    "    print(\"type\",type(n)) \n",
    "    total=0\n",
    "    for i in n:\n",
    "        total+=i\n",
    "    print(\"The Sum =\",total)"
   ]
  },
  {
   "cell_type": "code",
   "execution_count": null,
   "metadata": {},
   "outputs": [],
   "source": [
    "sum(1,2,3,4)"
   ]
  },
  {
   "cell_type": "code",
   "execution_count": null,
   "metadata": {},
   "outputs": [],
   "source": [
    "sum(10,20)"
   ]
  },
  {
   "cell_type": "code",
   "execution_count": null,
   "metadata": {},
   "outputs": [],
   "source": [
    "sum()"
   ]
  },
  {
   "cell_type": "markdown",
   "metadata": {},
   "source": [
    "#### **(ARBITARY KEYWORD ARGUMENT)"
   ]
  },
  {
   "cell_type": "code",
   "execution_count": null,
   "metadata": {},
   "outputs": [],
   "source": [
    "def display(**kwargs):\n",
    "    print(\"type\",type(kwargs)) \n",
    "    \n",
    "    for key,value in kwargs.items():\n",
    "        print(key,\":\",value)\n",
    "display(name=\"Python\", age=35, city=\"Ahmedabad\")"
   ]
  },
  {
   "cell_type": "code",
   "execution_count": null,
   "metadata": {},
   "outputs": [],
   "source": [
    "x=60\n",
    "def func():\n",
    "    global x\n",
    "    x='python'\n",
    "func()\n",
    "\n",
    "print(x)"
   ]
  },
  {
   "cell_type": "code",
   "execution_count": null,
   "metadata": {},
   "outputs": [],
   "source": [
    "!python --version"
   ]
  },
  {
   "cell_type": "code",
   "execution_count": null,
   "metadata": {},
   "outputs": [],
   "source": [
    "import sys\n",
    "sys.getrecursionlimit()"
   ]
  },
  {
   "cell_type": "markdown",
   "metadata": {},
   "source": [
    "#### Local Variables are define within a function and are accessible only within a function"
   ]
  },
  {
   "cell_type": "code",
   "execution_count": null,
   "metadata": {},
   "outputs": [],
   "source": [
    "x=60\n",
    "def func():\n",
    "    x=90\n",
    "    print(x)\n",
    "func()\n",
    "print(x)"
   ]
  },
  {
   "cell_type": "code",
   "execution_count": null,
   "metadata": {},
   "outputs": [],
   "source": [
    "x=60\n",
    "def func():\n",
    "    global x\n",
    "    x=90\n",
    "    print(x)\n",
    "func()\n",
    "print(x)"
   ]
  },
  {
   "cell_type": "code",
   "execution_count": null,
   "metadata": {},
   "outputs": [],
   "source": [
    "#write a program that finds all integer solution to x2 - 2y2=1 where x and y are between 1 to 100\n",
    "\n",
    "for i in range(1,101):\n",
    "    for z in range(1,101):\n",
    "        if (i**2)-(2*(z**2))==1:\n",
    "            print(f\"{i} and {z}\")\n",
    "    "
   ]
  },
  {
   "cell_type": "code",
   "execution_count": null,
   "metadata": {},
   "outputs": [],
   "source": [
    "#write a program that give an amount of change less than 1 $ and it will print out exaclty how many quarter, dimes, nickel amd penny will be need to efficently make that change\n",
    "case=False\n",
    "while(case==False):\n",
    "    x=float(input(\"Enter Change :\"))\n",
    "    x=int(x*100);\n",
    "    if x>100 or x<1:\n",
    "        print(\"Not Valid Input \\n Try Again \\n \")\n",
    "        continue;\n",
    "    case=True\n",
    "\n",
    "\n",
    "quarter=x//25\n",
    "x=x%25\n",
    "dimes=x//10\n",
    "x=x%10\n",
    "nickel=x//5\n",
    "x=x%5\n",
    "penny=x//1\n",
    "\n",
    "print(f\"\\n Quarter:{quarter} \\n Dimes:{dimes} \\n Nickel:{nickel} \\n Penny:{penny} \")\n",
    "\n",
    "\n",
    "    \n"
   ]
  },
  {
   "cell_type": "markdown",
   "metadata": {},
   "source": [
    "#### Write a program to  do following 10 scores 1st print out the avg of score, print out the second largest score, 3rd if any score is greater than 100 then after all the score have been entered print a message warning the user that a value of over 100 is entered . drop the two lowest score and print out the avg of the rest of them"
   ]
  },
  {
   "cell_type": "code",
   "execution_count": null,
   "metadata": {},
   "outputs": [],
   "source": [
    "first=0\n",
    "second=0\n",
    "last_second=999999\n",
    "last=999999\n",
    "above=False\n",
    "sum=0\n",
    "\n",
    "for i in range(1,11):\n",
    "    x=int(input(f\"Enter {i} Number: \"))\n",
    "    sum=sum+x\n",
    "    \n",
    "    if x>100:\n",
    "        above=True\n",
    "        \n",
    "    if x<last_second and x>last:\n",
    "        last_second=x\n",
    "        \n",
    "    if x<last:\n",
    "        last_second=last\n",
    "        last=x     \n",
    "\n",
    "    if x>second and x<first:\n",
    "        second=x\n",
    "        \n",
    "    if x>first :\n",
    "        second=first\n",
    "        first=x      \n",
    "        \n",
    "if above==True:\n",
    "    print(\"\\nA value of over 100 is entered.\")\n",
    "else:\n",
    "    print(f\"\\nAverage of 10 is {sum/10}\\n\")\n",
    "    print(f\"2nd Highest Value is '{second}'\\n\")\n",
    "    print(f\"2nd Lowest Value is '{last_second}' and Lowest Value is '{last}'\\n\")\n",
    "\n",
    "    print(f\"Average of numbers(excluding two Lowest values) is {(sum-last_second-last)/8}\")\n",
    "    \n"
   ]
  },
  {
   "cell_type": "markdown",
   "metadata": {},
   "source": [
    "##### suppose you put 1 rs in a bank in a 1st day(monday) every day from next day(tuesday to sunday) you put 1rs more than a day before and on every subsequemnt you will put in    . If you have number n find out the total amount of money you will have at the end of the the nth day."
   ]
  },
  {
   "cell_type": "code",
   "execution_count": 4,
   "metadata": {},
   "outputs": [
    {
     "name": "stdout",
     "output_type": "stream",
     "text": [
      "Enter: 17\n",
      "75\n"
     ]
    }
   ],
   "source": [
    "count=1\n",
    "count_2=1\n",
    "week=0\n",
    "n=int(input(\"Enter: \"))\n",
    "sum=0\n",
    "while count!=n+1:\n",
    "    if count_2==8:\n",
    "        count_2=1\n",
    "        week+=1\n",
    "    sum=sum+count_2+week\n",
    "    count_2+=1\n",
    "    count+=1\n",
    "print(sum)\n",
    "\n",
    "\n",
    "        \n"
   ]
  },
  {
   "cell_type": "code",
   "execution_count": null,
   "metadata": {},
   "outputs": [],
   "source": []
  }
 ],
 "metadata": {
  "kernelspec": {
   "display_name": "Python 3",
   "language": "python",
   "name": "python3"
  },
  "language_info": {
   "codemirror_mode": {
    "name": "ipython",
    "version": 3
   },
   "file_extension": ".py",
   "mimetype": "text/x-python",
   "name": "python",
   "nbconvert_exporter": "python",
   "pygments_lexer": "ipython3",
   "version": "3.8.5"
  }
 },
 "nbformat": 4,
 "nbformat_minor": 4
}
