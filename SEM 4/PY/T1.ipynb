{
 "cells": [
  {
   "cell_type": "markdown",
   "metadata": {},
   "source": [
    "### UNIT - 1 PANDAS"
   ]
  },
  {
   "cell_type": "markdown",
   "metadata": {},
   "source": [
    "#### Data Series (1D)"
   ]
  },
  {
   "cell_type": "code",
   "execution_count": 16,
   "metadata": {},
   "outputs": [
    {
     "name": "stdout",
     "output_type": "stream",
     "text": [
      "1    1.0\n",
      "2    2.0\n",
      "3    3.0\n",
      "4    4.0\n",
      "5    5.0\n",
      "6    6.4\n",
      "Name: score, dtype: float64\n"
     ]
    }
   ],
   "source": [
    "import pandas as pd\n",
    "import numpy as np\n",
    "\n",
    "l=[1,2,3,4,5,6.4]\n",
    "ser=pd.Series(l,index=range(1,len(l)+1),name='score')\n",
    "print(ser)"
   ]
  },
  {
   "cell_type": "code",
   "execution_count": 22,
   "metadata": {},
   "outputs": [
    {
     "name": "stdout",
     "output_type": "stream",
     "text": [
      "x          NaN\n",
      "y          NaN\n",
      "z          NaN\n",
      "python    78.0\n",
      "Name: Score, dtype: float64\n"
     ]
    }
   ],
   "source": [
    "marks={'fsd':97,'python':78,'dm':80,'toc':100}\n",
    "marks_ser=pd.Series(marks,name=\"Score\",index=['x','y','z','python'])\n",
    "print(marks_ser)"
   ]
  },
  {
   "cell_type": "code",
   "execution_count": 211,
   "metadata": {},
   "outputs": [
    {
     "name": "stdout",
     "output_type": "stream",
     "text": [
      "   cgpa\n",
      "0   6.8\n",
      "1   6.5\n",
      "2   9.6\n",
      "3   5.3\n",
      "4   2.5\n",
      "5   7.9\n",
      "6   9.4\n",
      "7  10.0\n",
      "<class 'pandas.core.frame.DataFrame'>\n",
      "0     6.8\n",
      "1     6.5\n",
      "2     9.6\n",
      "3     5.3\n",
      "4     2.5\n",
      "5     7.9\n",
      "6     9.4\n",
      "7    10.0\n",
      "Name: cgpa, dtype: float64\n"
     ]
    }
   ],
   "source": [
    "g_ss=\"https://docs.google.com/spreadsheets/d/e/2PACX-1vR8yueFzC5PLZeHrq1Gltx5IUfJKSk8D4xDX1yTtzUXLhBn_JDhwfG7iKskKluhP07iPFF0CD6mxlFp/pub?gid=0&single=true&output=csv\"\n",
    "cgpa=pd.read_csv(g_ss)\n",
    "print(cgpa)\n",
    "print(type(cgpa))\n",
    "new_cgpa=cgpa['cgpa']\n",
    "print(new_cgpa)"
   ]
  },
  {
   "cell_type": "code",
   "execution_count": 143,
   "metadata": {},
   "outputs": [
    {
     "name": "stdout",
     "output_type": "stream",
     "text": [
      "(5, 3)\n"
     ]
    }
   ],
   "source": [
    "data=np.random.randint(1,100,size=(5,4))\n",
    "df=pd.DataFrame(data,columns=['a','b','c','d'])\n",
    "df.set_index('a',inplace=True)\n",
    "print(df.shape)"
   ]
  },
  {
   "cell_type": "code",
   "execution_count": 188,
   "metadata": {},
   "outputs": [
    {
     "name": "stdout",
     "output_type": "stream",
     "text": [
      "nan\n"
     ]
    }
   ],
   "source": [
    "data_link=\"movie.csv\"\n",
    "movies=pd.read_csv(data_link)\n",
    "director=movies[\"director_name\"]\n",
    "print(movies.iat[4,5])"
   ]
  },
  {
   "cell_type": "code",
   "execution_count": 208,
   "metadata": {},
   "outputs": [
    {
     "name": "stdout",
     "output_type": "stream",
     "text": [
      "58\n",
      "    a   c\n",
      "0   1  52\n",
      "1  33  99\n",
      "    a   b   c   d\n",
      "0   1  79  52  70\n",
      "1  33  10  99  58\n",
      "3  69   7  31  63\n",
      "    d   c   b   a\n",
      "4  55  35  74  41\n",
      "3  63  31   7  69\n",
      "2  37  59  48  97\n",
      "1  58  99  10  33\n",
      "0  70  52  79   1\n"
     ]
    }
   ],
   "source": [
    "data=[[1,79,52,70],\n",
    " [33,10,68,58],\n",
    " [97,48,59,37],\n",
    " [69,7,31,63],\n",
    " [41,74,35,55]]\n",
    "\n",
    "df=pd.DataFrame(data,columns=['a','b','c','d'])\n",
    "print(df.at[1,'d'])\n",
    "df.iat[1,2]=99\n",
    "print(df.iloc[[0,1],[0,2]])\n",
    "print(df.iloc[[True,True,False,True,False]])\n",
    "print(df.iloc[::-1,::-1])"
   ]
  },
  {
   "cell_type": "code",
   "execution_count": 224,
   "metadata": {},
   "outputs": [
    {
     "name": "stdout",
     "output_type": "stream",
     "text": [
      "<pandas.core.indexing._LocIndexer object at 0x000001C4E06E62C0>\n",
      "cobra    1\n",
      "viper    4\n",
      "Name: max_speed, dtype: int64\n",
      "cobra    1\n",
      "viper    4\n",
      "Name: max_speed, dtype: int64\n"
     ]
    }
   ],
   "source": [
    "df=pd.DataFrame([[1,2],[4,5],[7,8]],\n",
    "index=['cobra','viper','sidewinder'],\n",
    "columns=['max_speed','shield'])\n",
    "\n",
    "print(df.loc)\n",
    "# print(help(df.loc))\n",
    "print(df.loc['cobra':'viper','max_speed'])\n",
    "\n",
    "print(df.loc[['cobra','viper'],'max_speed'])"
   ]
  },
  {
   "cell_type": "code",
   "execution_count": null,
   "metadata": {},
   "outputs": [],
   "source": []
  }
 ],
 "metadata": {
  "kernelspec": {
   "display_name": "Python 3",
   "language": "python",
   "name": "python3"
  },
  "language_info": {
   "codemirror_mode": {
    "name": "ipython",
    "version": 3
   },
   "file_extension": ".py",
   "mimetype": "text/x-python",
   "name": "python",
   "nbconvert_exporter": "python",
   "pygments_lexer": "ipython3",
   "version": "3.8.5"
  }
 },
 "nbformat": 4,
 "nbformat_minor": 4
}
