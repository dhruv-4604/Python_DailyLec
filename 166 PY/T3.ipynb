{
 "cells": [
  {
   "cell_type": "markdown",
   "metadata": {
    "slideshow": {
     "slide_type": "slide"
    }
   },
   "source": [
    "# FILES IN PYTHON"
   ]
  },
  {
   "cell_type": "markdown",
   "metadata": {},
   "source": [
    "###### Open method creates a file object and the default mode is read."
   ]
  },
  {
   "cell_type": "code",
   "execution_count": null,
   "metadata": {},
   "outputs": [],
   "source": [
    "file2=open(r\"D:\\166 PY\\text.txt\")\n",
    "print(file2)\n",
    "file2.close()"
   ]
  },
  {
   "cell_type": "markdown",
   "metadata": {},
   "source": [
    "#### Read Only Mode (r) \n",
    "This Mode is Read only mode the pointer is placed at the begining of file."
   ]
  },
  {
   "cell_type": "code",
   "execution_count": null,
   "metadata": {},
   "outputs": [],
   "source": [
    "file=open(r\"D:\\166 PY\\text.txt\")\n",
    "print(file.read())\n",
    "file.close()"
   ]
  },
  {
   "cell_type": "markdown",
   "metadata": {},
   "source": [
    "### Write Only Mode(r)\n",
    "Its Open the file for write only. it overrides the file if it exists and creates a new file if it not exists."
   ]
  },
  {
   "cell_type": "code",
   "execution_count": null,
   "metadata": {},
   "outputs": [],
   "source": [
    "file=open(\"text3.txt\",\"w\")\n",
    "file.write(\"Test \\nThis is new line.\\n\")#overrides existing file data.\n",
    "file.close()"
   ]
  },
  {
   "cell_type": "markdown",
   "metadata": {},
   "source": [
    "### Append Mode (a)\n",
    "This mode append data at the last of the file and pointer is at the last position means end of the file and if file doesnt exist, it creates a new file."
   ]
  },
  {
   "cell_type": "code",
   "execution_count": null,
   "metadata": {},
   "outputs": [],
   "source": [
    "file=open(\"text3.txt\",\"a\")\n",
    "file.write(\"Appended File Data\")\n",
    "file.close()"
   ]
  },
  {
   "cell_type": "markdown",
   "metadata": {},
   "source": [
    "### Read - Write Mode (r+)\n",
    "This mode opens a file in read write mode(Sequence Important) and the file pointer is at the beginning of the file.It overrides the file if it exists and throws error if it not exists."
   ]
  },
  {
   "cell_type": "markdown",
   "metadata": {},
   "source": [
    "### Write - Read Mode (w+)\n",
    "This mode opens a file in write read mode(Sequence Important) and the file pointer is at the beginning of the file.It overrides the file if it exists and creates new file if it not exists."
   ]
  },
  {
   "cell_type": "markdown",
   "metadata": {},
   "source": [
    "### Append - Read Mode (a+)\n",
    "This mode opens a file in append read mode(Sequence Important) and the file pointer is at the last position means end of the file and creates new file if file is not exists."
   ]
  },
  {
   "cell_type": "code",
   "execution_count": null,
   "metadata": {},
   "outputs": [],
   "source": [
    "file=open(\"new.txt\",\"w+\")\n",
    "print(file.name)\n",
    "print(file.mode)\n",
    "print(file.closed)\n",
    "file.close()\n",
    "print(file.closed)\n"
   ]
  },
  {
   "cell_type": "code",
   "execution_count": null,
   "metadata": {},
   "outputs": [],
   "source": [
    "file=open(\"alice_in_wonderland.txt\")\n",
    "file.close()\n"
   ]
  },
  {
   "cell_type": "markdown",
   "metadata": {},
   "source": [
    "#### writelines(list of string)"
   ]
  },
  {
   "cell_type": "code",
   "execution_count": null,
   "metadata": {},
   "outputs": [],
   "source": [
    "file=open(\"new.txt\",\"w+\")\n",
    "print(file.name)\n",
    "print(file.mode)\n",
    "file.writelines([\"1\",\"2\",\"3\"])\n",
    "print(file.closed)\n",
    "file.close()\n",
    "print(file.closed)\n"
   ]
  },
  {
   "cell_type": "markdown",
   "metadata": {},
   "source": [
    "#### read([count])\n",
    "- If the count is not given it will read all the characters of the file.\n",
    "- If the count is given it reads upto n characters."
   ]
  },
  {
   "cell_type": "code",
   "execution_count": null,
   "metadata": {},
   "outputs": [],
   "source": [
    "file=open(\"text.txt\")\n",
    "print(file.read(5))\n",
    "print(file.read())"
   ]
  },
  {
   "cell_type": "markdown",
   "metadata": {},
   "source": [
    "#### readline(size)\n",
    "- This method reads a single lines from the file. The string contains a trailing new line character. The size is an optional parameter and it is the number of bytes or characters including trailing new line. an empty string is encountered when end of file is encountered."
   ]
  },
  {
   "cell_type": "code",
   "execution_count": null,
   "metadata": {},
   "outputs": [],
   "source": [
    "file=open(\"text4.txt\",\"w\")\n",
    "file.write(\"Hello\\nHow are...... ?\\nThis is a new line.\\nHuh\\nTest.\")\n",
    "file.close()"
   ]
  },
  {
   "cell_type": "code",
   "execution_count": null,
   "metadata": {},
   "outputs": [],
   "source": [
    "file=open(\"text4.txt\")\n",
    "print(file.readline(1).strip(\"\\n\"),end=\", \")\n",
    "print(file.readline().strip(\"\\n\"),end=\", \")\n",
    "print(file.readline().strip(\"\\n\"),end=\", \")\n",
    "print(file.readline().strip(\"\\n\"),end=\", \")\n",
    "print(file.readline().strip(\"\\n\"),end=\", \")\n",
    "print(file.readline().strip(\"\\n\"),end=\", \")\n",
    "file.close()"
   ]
  },
  {
   "cell_type": "markdown",
   "metadata": {},
   "source": [
    "#### readlines([sizehunt])\n",
    "- This method returns a list of lines followed by the trailing new line charcters. \n",
    "- An optional sizehunt arguement causes whole line to be read instead of reading upto end of file. An empty string is return when end of file is encountered"
   ]
  },
  {
   "cell_type": "code",
   "execution_count": null,
   "metadata": {},
   "outputs": [],
   "source": [
    "file=open(\"text4.txt\")\n",
    "print(file.readlines(22),end=\"\")\n",
    "file.close()"
   ]
  },
  {
   "cell_type": "code",
   "execution_count": null,
   "metadata": {},
   "outputs": [],
   "source": [
    "with open(\"text5.txt\",\"w\") as file:\n",
    "    file.write(\"Hello World\")\n",
    "print(file.closed)"
   ]
  },
  {
   "cell_type": "markdown",
   "metadata": {},
   "source": [
    "#### tell()\n",
    "- returns the current positon of the pointer\n"
   ]
  },
  {
   "cell_type": "code",
   "execution_count": null,
   "metadata": {},
   "outputs": [],
   "source": [
    "file=open(\"text4.txt\")\n",
    "\n",
    "x=1\n",
    "while x!=file.tell():\n",
    "    x=file.tell()\n",
    "    print(file.read(1),end=\"\")\n",
    "\n",
    "    "
   ]
  },
  {
   "cell_type": "code",
   "execution_count": null,
   "metadata": {},
   "outputs": [],
   "source": [
    "file=open(\"text4.txt\")\n",
    "print(file.tell())\n",
    "print(file.read(2))\n",
    "print(file.read(2))\n",
    "print(file.tell())\n"
   ]
  },
  {
   "cell_type": "code",
   "execution_count": null,
   "metadata": {},
   "outputs": [],
   "source": []
  },
  {
   "cell_type": "code",
   "execution_count": null,
   "metadata": {},
   "outputs": [],
   "source": [
    "%%writefile newone.txt\n",
    "hhi\n",
    "Hii\n",
    "hello"
   ]
  },
  {
   "cell_type": "code",
   "execution_count": null,
   "metadata": {},
   "outputs": [],
   "source": [
    "file=open(\"newone.txt\")\n",
    "print(open(\"newone.txt\"))\n",
    "print(file.tell())\n",
    "print(file.read(4))\n",
    "print(file.read(4))\n",
    "print(file.tell())\n",
    "file.close()"
   ]
  },
  {
   "cell_type": "markdown",
   "metadata": {},
   "source": [
    "#### Seek\n",
    "Seek method set the current positon to the offset."
   ]
  },
  {
   "cell_type": "code",
   "execution_count": null,
   "metadata": {},
   "outputs": [],
   "source": [
    "file=open(\"newone.txt\")\n",
    "\n",
    "file.readline()\n",
    "print(file.tell())\n",
    "file.seek(24)\n",
    "print(file.read(10))\n",
    "print(file.tell())\n",
    "file.close()"
   ]
  },
  {
   "cell_type": "code",
   "execution_count": null,
   "metadata": {},
   "outputs": [],
   "source": []
  },
  {
   "cell_type": "code",
   "execution_count": null,
   "metadata": {},
   "outputs": [],
   "source": [
    "%%writefile helloworld.txt\n",
    "Hi\n",
    "How are...... ?\n",
    "This is a new line.\n",
    "Huh\n",
    "Test."
   ]
  },
  {
   "cell_type": "code",
   "execution_count": null,
   "metadata": {},
   "outputs": [],
   "source": [
    "a = open(\"helloworld.txt\", encoding='utf8')"
   ]
  },
  {
   "cell_type": "code",
   "execution_count": null,
   "metadata": {},
   "outputs": [],
   "source": [
    "a.tell()\n",
    "\n",
    "\n",
    "a.read(2)\n",
    "\n",
    "a.tell()\n",
    "\n",
    "a.read(2)\n",
    "\n",
    "a.tell()"
   ]
  },
  {
   "cell_type": "code",
   "execution_count": null,
   "metadata": {},
   "outputs": [],
   "source": [
    "a.close()"
   ]
  },
  {
   "cell_type": "code",
   "execution_count": null,
   "metadata": {},
   "outputs": [],
   "source": [
    "m = open(\"New Text Document.txt\")\n",
    "m.tell()\n",
    "m.read(2)\n",
    "m.tell()\n",
    "m.read(2)\n",
    "m.tell()"
   ]
  },
  {
   "cell_type": "code",
   "execution_count": null,
   "metadata": {},
   "outputs": [],
   "source": [
    "#write a prgrogram to count number of char,space and words in a given text file\n",
    "character=0\n",
    "space=0\n",
    "lines=[]\n",
    "\n",
    "file=open(\"helloworld.txt\")\n",
    "for line in file:\n",
    "    lines.extend(line.split())\n",
    "    for char in line:\n",
    "        if char==\" \":\n",
    "            space+=1\n",
    "        if char!=\" \" and char!=\"\\n\":\n",
    "            character+=1\n",
    "file.close()\n",
    "print(f\"char={character}\\nspace={space}\\nwords={len(lines)}\")\n",
    "\n",
    "        "
   ]
  },
  {
   "cell_type": "code",
   "execution_count": null,
   "metadata": {},
   "outputs": [],
   "source": [
    "#write a program to find the longest word in a given file\n",
    "file=open(\"helloworld.txt\")\n",
    "lines=[]\n",
    "longest_word=\"\"\n",
    "for line in file:\n",
    "    lines.extend(line.split())\n",
    "\n",
    "for word in lines:\n",
    "    if len(word)>len(longest_word):\n",
    "        longest_word=word\n",
    "file.close()\n",
    "print(\"Longest Word in the File: \",longest_word)\n",
    "    "
   ]
  },
  {
   "cell_type": "code",
   "execution_count": null,
   "metadata": {},
   "outputs": [],
   "source": [
    "#write a pgrogram to remove  the comment lines\n",
    "file=open(\"helloworld.txt\")\n",
    "file2=open(\"output.txt\",\"a\")\n",
    "for line in file:\n",
    "    if \"#\" in line:\n",
    "        if line[0]==\"#\":\n",
    "            continue\n",
    "        else:\n",
    "            file2.writelines(line[0:line.index(\"#\")]+\"\\n\")\n",
    "        \n",
    "    else:\n",
    "        file2.writelines(line)\n",
    "file.close()\n",
    "file2.close()"
   ]
  },
  {
   "cell_type": "code",
   "execution_count": null,
   "metadata": {},
   "outputs": [],
   "source": [
    "file=list(open(\"helloworld.txt\"))\n",
    "print(file)"
   ]
  },
  {
   "cell_type": "code",
   "execution_count": null,
   "metadata": {},
   "outputs": [],
   "source": [
    "#write a porgram to read a line by line and store in a variable\n",
    "file=list(open(\"helloworld.txt\"))\n",
    "x={}\n",
    "for i in range(len(file)):\n",
    "    x.update({i:file[i].strip(\"\\n\")})\n",
    "print(x)\n",
    "file.close()"
   ]
  },
  {
   "cell_type": "code",
   "execution_count": null,
   "metadata": {},
   "outputs": [],
   "source": [
    "#write a python program to print lines containing given string in file\n",
    "string=input(\"Enter :\")\n",
    "file2=open(\"helloworld.txt\")\n",
    "\n",
    "for line in file2:\n",
    "    if string in line:\n",
    "        print(line,end=\"\")\n",
    "file2.close()"
   ]
  },
  {
   "cell_type": "markdown",
   "metadata": {},
   "source": [
    "#### "
   ]
  },
  {
   "cell_type": "markdown",
   "metadata": {},
   "source": [
    "#### "
   ]
  },
  {
   "cell_type": "markdown",
   "metadata": {},
   "source": [
    "#### "
   ]
  },
  {
   "cell_type": "markdown",
   "metadata": {},
   "source": [
    "#### "
   ]
  },
  {
   "cell_type": "markdown",
   "metadata": {},
   "source": [
    "## UNIT - 7 OS & MODULE"
   ]
  },
  {
   "cell_type": "markdown",
   "metadata": {},
   "source": [
    "#### Package --> Module --> Porgram"
   ]
  },
  {
   "cell_type": "markdown",
   "metadata": {},
   "source": [
    "###### "
   ]
  },
  {
   "cell_type": "code",
   "execution_count": null,
   "metadata": {},
   "outputs": [],
   "source": [
    "%%writefile mod.py\n",
    "s=\"hello python\"\n",
    "a=[1,2,3]\n",
    "def square(x):\n",
    "    print(x**2)"
   ]
  },
  {
   "cell_type": "code",
   "execution_count": null,
   "metadata": {},
   "outputs": [],
   "source": [
    "import mod\n",
    "print(mod.a)\n",
    "print(mod.s)\n",
    "mod.square(5)"
   ]
  },
  {
   "cell_type": "code",
   "execution_count": null,
   "metadata": {},
   "outputs": [],
   "source": [
    "from mod import * \n",
    "s=\"Huh\"\n",
    "print(s)"
   ]
  },
  {
   "cell_type": "code",
   "execution_count": null,
   "metadata": {},
   "outputs": [],
   "source": [
    "%%writefile mod1.py\n",
    "print(\"Hello\")"
   ]
  },
  {
   "cell_type": "code",
   "execution_count": null,
   "metadata": {},
   "outputs": [],
   "source": [
    "import mod1\n",
    "import importlib\n",
    "x=importlib.reload(mod1)"
   ]
  },
  {
   "cell_type": "markdown",
   "metadata": {},
   "source": [
    "### OS Module \n",
    "The OS module provide function to interact with the operating system."
   ]
  },
  {
   "cell_type": "code",
   "execution_count": null,
   "metadata": {},
   "outputs": [],
   "source": [
    "import os\n",
    "print(os.getcwd())"
   ]
  },
  {
   "cell_type": "code",
   "execution_count": null,
   "metadata": {},
   "outputs": [],
   "source": [
    "\n",
    "for i in range(100):\n",
    "    test=\"Huh\"+\"/Huh\"*i\n",
    "    os.mkdir(test)"
   ]
  },
  {
   "cell_type": "code",
   "execution_count": null,
   "metadata": {},
   "outputs": [],
   "source": []
  },
  {
   "cell_type": "code",
   "execution_count": null,
   "metadata": {},
   "outputs": [],
   "source": [
    "%%writefile pkg/mod1.py\n",
    "\n",
    "def m1():\n",
    "    print(\"from module 1\")"
   ]
  },
  {
   "cell_type": "code",
   "execution_count": null,
   "metadata": {},
   "outputs": [],
   "source": [
    "%%writefile pkg/mod2.py\n",
    "\n",
    "def m2():\n",
    "    print(\"from module 2\")"
   ]
  },
  {
   "cell_type": "code",
   "execution_count": null,
   "metadata": {},
   "outputs": [],
   "source": [
    "%%writefile pkg/mod3.py\n",
    "\n",
    "def m3():\n",
    "    print(\"from module 3\")"
   ]
  },
  {
   "cell_type": "code",
   "execution_count": null,
   "metadata": {},
   "outputs": [],
   "source": [
    "from pkg import *\n",
    "\n",
    "mod1.m1()"
   ]
  },
  {
   "cell_type": "code",
   "execution_count": null,
   "metadata": {
    "slideshow": {
     "slide_type": "-"
    }
   },
   "outputs": [],
   "source": [
    "#write a program to scan a text file and return upto 80 characters and break the line and push to the prevous neext line when you are done that should be no line longer than 80characters\n",
    "\n",
    "\n"
   ]
  },
  {
   "cell_type": "code",
   "execution_count": null,
   "metadata": {},
   "outputs": [],
   "source": [
    "%%writefile huh.txt\n",
    "I am fine. This is a python lecture"
   ]
  },
  {
   "cell_type": "code",
   "execution_count": null,
   "metadata": {},
   "outputs": [],
   "source": [
    "file=open(\"huh.txt\",\"r\")\n",
    "file2=open(\"huh2.txt\",\"a+\")\n",
    "\n",
    "for line in file:\n",
    "    words=line.split()\n",
    "    char=0\n",
    "    for i in words:\n",
    "        \n",
    "        for l in i:\n",
    "            char+=1\n",
    "        if char > 80:\n",
    "            file2.writelines(\"\\n\"+i)\n",
    "            char=len(i)\n",
    "        else:\n",
    "            file2.writelines(i+\" \")\n",
    "        char+=1\n",
    "    file2.writelines(\"\\n\")\n",
    "\n",
    "file.close()\n",
    "file2.close()"
   ]
  },
  {
   "cell_type": "code",
   "execution_count": null,
   "metadata": {},
   "outputs": [],
   "source": [
    "print(len(\"asdfghjklpoiuytrewqasdfghjklpoiuytrewqa asdfghjklpoiuytrewqasdfghjklpoiuytrewqas\"))"
   ]
  },
  {
   "cell_type": "code",
   "execution_count": null,
   "metadata": {
    "scrolled": true
   },
   "outputs": [],
   "source": [
    "file=open(\"mbox-short.txt\")\n",
    "file2=open(\"email.txt\",\"a+\")\n",
    "count=0\n",
    "email=[]\n",
    "\n",
    "for lines in file:\n",
    "    if \"From \" in lines:\n",
    "        count+=1\n",
    "        file2.writelines(lines.split()[lines.split().index(\"From\")+1]+\"\\n\")\n",
    "        email.insert(1,lines.split()[lines.split().index(\"From\")+1])\n",
    "        \n",
    "print(f\"Email Count:{count}\")\n",
    "email_dict=dict(enumerate(set(email)))\n",
    "\n",
    "for key,val in email_dict.items():\n",
    "    email_dict.update({key:[val]})\n",
    "\n",
    "for key,val in email_dict.items():\n",
    "    email_dict.update({key:[val]})\n",
    "    print(key,val)\n",
    "    for em in email:\n",
    "        if em==val:\n",
    "            temp=val.\n",
    "            temp.add(0,em)\n",
    "            email_dict.update({key:temp})\n",
    "print(email_dict)\n",
    "file.close()\n",
    "file2.close()\n"
   ]
  },
  {
   "cell_type": "markdown",
   "metadata": {},
   "source": [
    "### "
   ]
  },
  {
   "cell_type": "markdown",
   "metadata": {},
   "source": [
    "### "
   ]
  },
  {
   "cell_type": "markdown",
   "metadata": {},
   "source": [
    "### "
   ]
  },
  {
   "cell_type": "markdown",
   "metadata": {},
   "source": [
    "### "
   ]
  },
  {
   "cell_type": "markdown",
   "metadata": {},
   "source": [
    "#### "
   ]
  },
  {
   "cell_type": "markdown",
   "metadata": {},
   "source": [
    "#### "
   ]
  },
  {
   "cell_type": "code",
   "execution_count": null,
   "metadata": {},
   "outputs": [],
   "source": [
    "%%writefile cal.py\n",
    "\n",
    "def add(a, b):\n",
    "    return a + b\n",
    "\n",
    "def subtract(a, b):\n",
    "    return a - b\n",
    "\n",
    "def multiply(a, b):\n",
    "    return a * b\n",
    "\n",
    "def divide(a, b):\n",
    "    if b != 0:\n",
    "        return a / b\n",
    "    else:\n",
    "        return \"Cannot divide by zero\"\n",
    "\n"
   ]
  },
  {
   "cell_type": "code",
   "execution_count": null,
   "metadata": {},
   "outputs": [],
   "source": [
    "from cal import add, subtract, multiply, divide\n",
    "\n",
    "num1 = float(input(\"Enter first number: \"))\n",
    "num2 = float(input(\"Enter second number: \"))\n",
    "\n",
    "result_add = add(num1, num2)\n",
    "print(f\"Addition: {result_add}\")\n",
    "\n",
    "result_subtract = subtract(num1, num2)\n",
    "print(f\"Subtraction: {result_subtract}\")\n",
    "\n",
    "result_multiply = multiply(num1, num2)\n",
    "print(f\"Multiplication: {result_multiply}\")\n",
    "\n",
    "result_divide = divide(num1, num2)\n",
    "print(f\"Division: {result_divide}\")"
   ]
  },
  {
   "cell_type": "code",
   "execution_count": null,
   "metadata": {},
   "outputs": [],
   "source": [
    "import tkinter \n",
    "def addtolist():\n",
    "    Lb.insert(Lb.size(),entry.get())\n",
    "    Lb.pack()\n",
    "top = tkinter.Tk()\n",
    "Lb = tkinter.Listbox(top)\n",
    "Lb.insert(1, 'Python')\n",
    "Lb.insert(2, 'Java')\n",
    "Lb.insert(3, 'C++')\n",
    "Lb.insert(4, 'Any other')\n",
    "Lb.pack()\n",
    "\n",
    "entry = tkinter.Entry(top)\n",
    "entry.pack()\n",
    "huh=tkinter.Button(top,text=\"Add\",command=addtolist)\n",
    "huh.pack()\n",
    "\n",
    "top.mainloop()\n"
   ]
  },
  {
   "cell_type": "markdown",
   "metadata": {},
   "source": [
    "#### "
   ]
  },
  {
   "cell_type": "markdown",
   "metadata": {},
   "source": [
    "#### "
   ]
  },
  {
   "cell_type": "markdown",
   "metadata": {},
   "source": [
    "#### "
   ]
  },
  {
   "cell_type": "markdown",
   "metadata": {},
   "source": [
    "#### "
   ]
  },
  {
   "cell_type": "markdown",
   "metadata": {},
   "source": [
    "#### "
   ]
  },
  {
   "cell_type": "code",
   "execution_count": null,
   "metadata": {},
   "outputs": [],
   "source": [
    "class Person:\n",
    "    \"This is a Class\"\n",
    "    age=19\n",
    "    def greet():\n",
    "        print(\"Hello\")\n",
    "        \n",
    "print(Person.age)\n",
    "print(Person.greet)\n",
    "print(Person.__doc__)"
   ]
  },
  {
   "cell_type": "code",
   "execution_count": null,
   "metadata": {},
   "outputs": [],
   "source": [
    "Person.greet()"
   ]
  },
  {
   "cell_type": "code",
   "execution_count": null,
   "metadata": {},
   "outputs": [],
   "source": [
    "x=Person()\n",
    "y=Person()\n",
    "x.greet()\n"
   ]
  },
  {
   "cell_type": "code",
   "execution_count": null,
   "metadata": {},
   "outputs": [],
   "source": [
    "class Employee:\n",
    "    empCount=0\n",
    "    def __init__(self, name, salary):\n",
    "        self.name=name\n",
    "        self.salary=salary\n",
    "        Employee.empCount+=1\n",
    "    def displayCount(self):\n",
    "        print(\"Total Employee %d\"% Employee.empCount)\n",
    "    def displayEmployee(self):\n",
    "        print(\"Name\",self.name,\"& Salary:\", self.salary)\n",
    "    def __str__(self):\n",
    "        return f'The name is {self.name} and salary is {self.salary}'\n",
    "\n",
    "class Worker(Employee):\n",
    "    pass"
   ]
  },
  {
   "cell_type": "code",
   "execution_count": null,
   "metadata": {},
   "outputs": [],
   "source": [
    "rahul=Employee(\"Rahul\",5000)"
   ]
  },
  {
   "cell_type": "code",
   "execution_count": null,
   "metadata": {},
   "outputs": [],
   "source": [
    "print(rahul)\n",
    "rahul.displayCount()\n",
    "rahul.displayEmployee()\n"
   ]
  },
  {
   "cell_type": "code",
   "execution_count": null,
   "metadata": {},
   "outputs": [],
   "source": [
    "class MyClass(object): # Defining class \n",
    "    def __init__(self, x, y, z):\n",
    "        self.var1 = x # public data member\n",
    "        self._var2 = y # protected data member\n",
    "        self.__var3 = z # private data member\n",
    "        \n",
    "obj = MyClass(3,4,5)\n",
    "print(obj.var1)\n",
    "print(obj._var2)"
   ]
  },
  {
   "cell_type": "code",
   "execution_count": null,
   "metadata": {},
   "outputs": [],
   "source": [
    "class Website:\n",
    "    pass"
   ]
  },
  {
   "cell_type": "code",
   "execution_count": null,
   "metadata": {},
   "outputs": [],
   "source": [
    "github = Website()\n",
    "github.url = 'https://github.com/'\n",
    "github.founding_year = 2008\n",
    "github.free_to_use = True"
   ]
  },
  {
   "cell_type": "code",
   "execution_count": null,
   "metadata": {},
   "outputs": [],
   "source": [
    "print(github.founding_year)\n",
    "print(github.free_to_use)\n",
    "print(github.url)"
   ]
  },
  {
   "cell_type": "code",
   "execution_count": null,
   "metadata": {},
   "outputs": [],
   "source": [
    "newob = Website()"
   ]
  },
  {
   "cell_type": "code",
   "execution_count": null,
   "metadata": {},
   "outputs": [],
   "source": [
    "newob.url"
   ]
  },
  {
   "cell_type": "code",
   "execution_count": null,
   "metadata": {},
   "outputs": [],
   "source": [
    "print(github.__dict__)\n",
    "print(newob.__dict__)"
   ]
  },
  {
   "cell_type": "code",
   "execution_count": null,
   "metadata": {},
   "outputs": [],
   "source": [
    "Website.isonline = True"
   ]
  },
  {
   "cell_type": "code",
   "execution_count": null,
   "metadata": {},
   "outputs": [],
   "source": [
    "print(github.isonline)\n",
    "print(newob.isonline)"
   ]
  },
  {
   "cell_type": "code",
   "execution_count": null,
   "metadata": {},
   "outputs": [],
   "source": [
    "def website_info(website):\n",
    "    print(\"URL:\", website.url)\n",
    "    print(\"Founding year:\", website.founding_year)\n",
    "    print(\"Free to use:\", website.free_to_use)\n",
    "\n",
    "website_info(github)"
   ]
  },
  {
   "cell_type": "code",
   "execution_count": null,
   "metadata": {},
   "outputs": [],
   "source": [
    "Website.info = website_info\n",
    "Website.info(github)"
   ]
  },
  {
   "cell_type": "code",
   "execution_count": null,
   "metadata": {},
   "outputs": [],
   "source": [
    "github.info()"
   ]
  },
  {
   "cell_type": "code",
   "execution_count": null,
   "metadata": {},
   "outputs": [],
   "source": [
    "class Website:\n",
    "    def info(self):     # self will be github\n",
    "        print(\"URL:\", self.url)\n",
    "        print(\"Founding year:\", self.founding_year)\n",
    "        print(\"Free to use:\", self.free_to_use)\n",
    "\n",
    "github = Website()\n",
    "github.url = 'https://github.com/'\n",
    "github.founding_year = 2008\n",
    "github.free_to_use = True\n",
    "github.info()"
   ]
  },
  {
   "cell_type": "code",
   "execution_count": null,
   "metadata": {},
   "outputs": [],
   "source": [
    "class Website:\n",
    "    def initialize(self, url, founding_year, free_to_use):\n",
    "        self.url = url\n",
    "        self.founding_year = founding_year\n",
    "        self.free_to_use = free_to_use\n",
    "    def info(self):\n",
    "        print(\"URL:\", self.url)\n",
    "        print(\"Founding year:\", self.founding_year)\n",
    "        print(\"Free to use:\", self.free_to_use)\n",
    "\n",
    "github = Website()\n",
    "github.initialize('https://github.com/', 2008, True)\n",
    "github.info()"
   ]
  },
  {
   "cell_type": "code",
   "execution_count": null,
   "metadata": {},
   "outputs": [],
   "source": [
    "class Website:\n",
    "    def __init__(self, url, founding_year, free_to_use):\n",
    "        self.url = url\n",
    "        self.founding_year = founding_year\n",
    "        self.free_to_use = free_to_use\n",
    "    def info(self):\n",
    "        print(\"URL:\", self.url)\n",
    "        print(\"Founding year:\", self.founding_year)\n",
    "        print(\"Free to use:\", self.free_to_use)\n",
    "\n",
    "github = Website('https://github.com/', 2008, True)\n",
    "github.info()"
   ]
  },
  {
   "cell_type": "code",
   "execution_count": null,
   "metadata": {},
   "outputs": [],
   "source": [
    "file=open(r\"D:\\166 PY\\worked_exercises_text_files\\wordlist.txt\")\n",
    "longest_word=\"\"\n",
    "for line in file:\n",
    "    if len(longest_word)<len(line) and line[0]==line[-2]:\n",
    "        longest_word=line\n",
    "print(longest_word)\n",
    "file.close()"
   ]
  },
  {
   "cell_type": "code",
   "execution_count": null,
   "metadata": {},
   "outputs": [],
   "source": [
    "file=open(\"mbox-short.txt\")\n",
    "\n",
    "email=[]\n",
    "\n",
    "for lines in file:\n",
    "    if \"X-DSPAM-Confidence:\" in lines:\n",
    "        email.insert(1,float(lines.split()[lines.split().index(\"X-DSPAM-Confidence:\")+1]))\n",
    "sum=0\n",
    "\n",
    "for i in email:\n",
    "    sum+=i\n",
    "\n",
    "print(f\"Avg:{sum/len(email)}\")\n",
    "\n"
   ]
  },
  {
   "cell_type": "code",
   "execution_count": null,
   "metadata": {},
   "outputs": [],
   "source": [
    "class Cars:\n",
    "    def __init__(self,name, color, model, price):\n",
    "        self.name=name\n",
    "        self.color=color\n",
    "        self.model=model\n",
    "        self.price=price\n",
    "    def details(self):\n",
    "        print(\"Car Name  : \",self.name)\n",
    "        print(\"Car Color : \",self.color)\n",
    "        print(\"Car Type  : \",self.model)\n",
    "        print(\"Car Price : \",self.price)"
   ]
  },
  {
   "cell_type": "code",
   "execution_count": null,
   "metadata": {},
   "outputs": [],
   "source": [
    "Maruti = Cars('Maruti','Red','SUV',1000000)\n",
    "Kia = Cars('Kia','blue','SUV',1200000)\n",
    "Maruti.details();print(\"\\n\")\n",
    "Cars.details(Kia)"
   ]
  },
  {
   "cell_type": "code",
   "execution_count": null,
   "metadata": {},
   "outputs": [],
   "source": [
    "class Rectangle:\n",
    "    def __init__(self, length, width):\n",
    "        self.length=length\n",
    "        self.width=width\n",
    "        \n",
    "    def parameter(self):\n",
    "        print(\"Paramenter of Rectangle : \", 2*(self.length+ self.width))\n",
    "    \n",
    "    def area(self):\n",
    "        print(f\"Area of Rectangle       : \", self.length*self.width)"
   ]
  },
  {
   "cell_type": "code",
   "execution_count": null,
   "metadata": {},
   "outputs": [],
   "source": [
    "rect1=Rectangle(10,5)\n",
    "rect2=Rectangle(20,4)\n",
    "\n",
    "rect1.area()\n",
    "Rectangle.parameter(rect1);print(\"\\n\")\n",
    "\n",
    "rect2.area()\n",
    "Rectangle.parameter(rect2)\n",
    "\n"
   ]
  },
  {
   "cell_type": "code",
   "execution_count": null,
   "metadata": {},
   "outputs": [],
   "source": [
    "import math\n",
    "class Circle:\n",
    "    def __init__(self, radius):\n",
    "        self.radius=radius\n",
    "        \n",
    "    def parameter(self):\n",
    "        print(\"Paramenter of Circle : \", round(2* math.pi*self.radius,4))\n",
    "    \n",
    "    def area(self):\n",
    "        print(f\"Area of Circle       : \", round(math.pi*(self.radius**2),4))"
   ]
  },
  {
   "cell_type": "code",
   "execution_count": null,
   "metadata": {},
   "outputs": [],
   "source": [
    "circle1=Circle(5)\n",
    "circle2=Circle(10)\n",
    "\n",
    "circle1.area()\n",
    "Circle.parameter(circle1);print(\"\\n\")\n",
    "\n",
    "circle2.area()\n",
    "Circle.parameter(circle2)"
   ]
  },
  {
   "cell_type": "code",
   "execution_count": null,
   "metadata": {},
   "outputs": [],
   "source": [
    "#588\n",
    "class Point:\n",
    "    def __init__(self, x,y):\n",
    "        self.x=x\n",
    "        self.y=y\n",
    "        \n",
    "    def distanceFromOrigin(self):\n",
    "        print(f\"Distance from origin for point({self.x},{self.y}) : {round(((self.x**2)+(self.y**2))**0.5,2)}\\n\")\n",
    "    \n",
    "    def distanceBetweenPoints(point1,point2):\n",
    "        print(f\"Distance Between point({point1.x},{point1.y}) and point({point2.x},{point2.y}) : {round(((point1.x-point2.x)**2+(point1.y-point2.y)**2 )**0.5,2)}\\n\")\n",
    "        \n",
    "    def translatexy(point1,point2):\n",
    "        print(f\"Tranlation of point({point1.x},{point1.y}) and point({point2.x},{point2.y}): point({point1.x+point2.x},{point1.y+point2.y})\\n\")\n",
    "        \n",
    "    def reflect(self):\n",
    "        print(f\"Reflection of point({self.x},{self.y}) : point({(self.x)},{(self.y*-1)})\")\n",
    "        \n",
    "p1=Point(2,-3)\n",
    "p2=Point(3,4)\n",
    "p1.distanceFromOrigin()\n",
    "Point.distanceBetweenPoints(p1,p2)\n",
    "Point.translatexy(p1,Point(1,1))\n",
    "p1.reflect()                                                                     \n"
   ]
  },
  {
   "cell_type": "code",
   "execution_count": null,
   "metadata": {},
   "outputs": [],
   "source": [
    "class Store:\n",
    "    def __init__(self):\n",
    "        self.products = {}\n",
    "\n",
    "    def add_product(self, code, price):\n",
    "        self.products[code] = price\n",
    "\n",
    "    def display_menu(self):\n",
    "        print(\"Item Code\\t Price\")\n",
    "        for code, price in self.products.items():\n",
    "            print(f\"{code}\\t\\t {price}\")\n",
    "\n",
    "    def generate_bill(self, quantities):\n",
    "        print(\"\\n************************Bill**********************\")\n",
    "        print(\"ITEM\\t PRICE\\t QUANTITY\\t\\t SUBTOTAL\")\n",
    "        \n",
    "        total_amount = 0\n",
    "        for code, quantity in quantities.items():\n",
    "            if code in self.products:\n",
    "                price = self.products[code]\n",
    "                subtotal = price * quantity\n",
    "                total_amount += subtotal\n",
    "                print(f\"{code}\\t {price}\\t {quantity}\\t\\t\\t {subtotal}\")\n",
    "\n",
    "        print(\"**************************************************\")\n",
    "        print(f\"Total=  {total_amount}\")\n",
    "\n",
    "# Example usage:\n",
    "store = Store()\n",
    "\n",
    "# Adding products to the store\n",
    "store.add_product(\"milk\", 30)\n",
    "store.add_product(\"apple\", 35)\n",
    "store.add_product(\"gems\", 40)\n",
    "\n",
    "# Displaying the menu\n",
    "store.display_menu()\n",
    "\n",
    "# Taking input for quantities\n",
    "num_items = int(input(\"Enter no of items: \"))\n",
    "quantities = {}\n",
    "for _ in range(num_items):\n",
    "    code = input(\"Enter code of item: \")\n",
    "    quantity = int(input(f\"Enter quantity of {code} : \"))\n",
    "    quantities[code] = quantity\n",
    "\n",
    "# Generating and displaying the bill\n",
    "store.generate_bill(quantities)"
   ]
  },
  {
   "cell_type": "code",
   "execution_count": null,
   "metadata": {},
   "outputs": [],
   "source": [
    "class ATM:\n",
    "    def createPin(self):\n",
    "        status=False\n",
    "        while(not status):\n",
    "            temp_pin=int(input(\"Enter New Pin to Set:\"))\n",
    "            if temp_pin<1000 or temp_pin>9999:\n",
    "                print(\"Invalid Pin!\\nPin Must be of 4 digit.\\n\")\n",
    "                continue;\n",
    "            confirm_pin=int(input(\"Enter The Pin Again to Confirm:\"))\n",
    "            if temp_pin!=confirm_pin:\n",
    "                print(\"Confirm Pin Not Match!\\nTry Again to set.\\n\")\n",
    "                continue;\n",
    "            self.atm_pin=confirm_pin\n",
    "            status=True\n",
    "        else:\n",
    "            self.atm_bal=float(input(\"Enter Balance: \"))\n",
    "            print(\"Pin Set Successfully!\")\n",
    "            print(f\"Your Account Balance is {self.atm_bal}.\\n\\n\")\n",
    "            \n",
    "            \n",
    "    def changePin(self):\n",
    "        status=False\n",
    "        while(not status):\n",
    "            check_pin=int(input(\"Enter Your Old Pin:\"))\n",
    "            if check_pin!=self.atm_pin:\n",
    "                print(\"Invalid Pin\\nTry Again.\\n\")\n",
    "                continue\n",
    "            temp_pin=int(input(\"Enter Your Pin to Set:\"))\n",
    "            if temp_pin<1000 or temp_pin>9999:\n",
    "                print(\"Invalid Pin!\\nPin Must be of 4 digit.\\n\")\n",
    "                continue;\n",
    "            confirm_pin=int(input(\"Enter The Pin Again to Confirm:\"))\n",
    "            if temp_pin!=confirm_pin:\n",
    "                print(\"Confirm Pin Not Match!\\nTry Again to set.\\n\")\n",
    "                continue;\n",
    "            self.atm_pin=confirm_pin\n",
    "            status=True\n",
    "        else:\n",
    "            print(\"Pin Set Successfully!\")\n",
    "        \n",
    "    def checkBalance(self):\n",
    "        print(f\"Your Account Balance is {self.atm_bal}.\\n\\n\")\n",
    "        \n",
    "    def withdraw(self):\n",
    "        amount=float(input(\"Enter Amount To Withdraw: \"))\n",
    "        if amount>self.atm_bal:\n",
    "            print(\"\\nInsufficient Balance.\")\n",
    "        else:\n",
    "            self.atm_bal-=amount\n",
    "            self.checkBalance()\n",
    "            \n",
    "\n",
    "            \n",
    "            \n",
    "print(\"Welcome To XYZ BANK ATM\\n\\n\")\n",
    "atm=ATM()\n",
    "atm.createPin()\n",
    "user_inp=5\n",
    "while(user_inp!=0):\n",
    "    user_inp=int(input(\"\\n------------ MENU ------------\\n1. Change Pin\\n2. Withdraw Amount\\n3.Check Balance\\n0.Exit\\n------------------------------\\nEnter Choice:\"))\n",
    "    if user_inp==1:\n",
    "        atm.changePin()\n",
    "    elif user_inp==2:\n",
    "        atm.withdraw()\n",
    "    elif user_inp==3:\n",
    "        atm.checkBalance()\n",
    "    else:\n",
    "        print(\"Invalid Choice!\")\n",
    "else:\n",
    "    print(\"\\n\\nThank You for Visiting!\")\n",
    "\n",
    "\n",
    "            \n",
    "                \n",
    "        "
   ]
  },
  {
   "cell_type": "code",
   "execution_count": null,
   "metadata": {
    "scrolled": true
   },
   "outputs": [],
   "source": [
    "class InvalidToppingException(Exception):\n",
    "    pass\n",
    "\n",
    "class InvalidCheeseException(Exception):\n",
    "    pass\n",
    "\n",
    "class Pizza:\n",
    "    def __init__(self, size, toppings, cheese):\n",
    "        self.size = size\n",
    "        self.toppings = toppings\n",
    "        self.cheese = cheese\n",
    "        self.validate_toppings()\n",
    "        self.validate_cheese()\n",
    "\n",
    "    def validate_toppings(self):\n",
    "        valid_toppings = ['corn', 'tomato', 'onion', 'capsicum', 'mushroom', 'olives', 'broccoli']\n",
    "        for topping in self.toppings:\n",
    "            if topping not in valid_toppings:\n",
    "                raise InvalidToppingException(f\"Invalid topping: {topping}\")\n",
    "\n",
    "    def validate_cheese(self):\n",
    "        valid_cheese = ['mozzarella', 'feta', 'cheddar']\n",
    "        for cheese in self.cheese:\n",
    "            if cheese not in valid_cheese:\n",
    "                raise InvalidCheeseException(f\"Invalid cheese: {cheese}\")\n",
    "\n",
    "    def price(self):\n",
    "        size_price = {'small': 50, 'medium': 100, 'large': 200}\n",
    "        topping_price = 20\n",
    "        exotic_toppings_price = 50\n",
    "        cheese_price = 50\n",
    "\n",
    "        total_price = size_price[self.size]\n",
    "\n",
    "        for topping in self.toppings:\n",
    "            if topping in ['broccoli', 'olives', 'mushroom']:\n",
    "                total_price += exotic_toppings_price\n",
    "            else:\n",
    "                total_price += topping_price\n",
    "\n",
    "        total_price += len(self.cheese) * cheese_price\n",
    "        return total_price\n",
    "\n",
    "\n",
    "class Order:\n",
    "    def __init__(self, name, customer_id):\n",
    "        self.name = name\n",
    "        self.customer_id = customer_id\n",
    "        self.pizzas = []\n",
    "\n",
    "    def order(self, pizza):\n",
    "        self.pizzas.append(pizza)\n",
    "\n",
    "    def bill(self):\n",
    "        total_cost = 0\n",
    "        print(f\"Order details for customer {self.name} (ID: {self.customer_id}):\")\n",
    "        for index, pizza in enumerate(self.pizzas, start=1):\n",
    "            print(f\"\\nPizza {index}:\")\n",
    "            print(f\"Size: {pizza.size}\")\n",
    "            print(f\"Toppings: {', '.join(pizza.toppings)}\")\n",
    "            print(f\"Cheese: {', '.join(pizza.cheese)}\")\n",
    "            pizza_cost = pizza.price()\n",
    "            print(f\"Cost: {pizza_cost} rupees\")\n",
    "            total_cost += pizza_cost\n",
    "        print(f\"\\nTotal Order Cost: {total_cost} rupees\")\n",
    "\n",
    "\n",
    "# Example usage:\n",
    "try:\n",
    "    pizza1 = Pizza('medium', ['corn', 'tomato'], ['mozzarella', 'feta'])\n",
    "    pizza2 = Pizza('large', ['mushroom', 'olives'], ['cheddar'])\n",
    "    pizza3 = Pizza('small', ['onion', 'capsicum', 'broccoli'], ['mozzarella'])\n",
    "    pizza4 = Pizza('small', ['corn', 'tomato'], ['mozzarella'])\n",
    "\n",
    "    order = Order(\"Dhruv Patel\", 166)\n",
    "    order.order(pizza1)\n",
    "    order.order(pizza2)\n",
    "    order.order(pizza3)\n",
    "    order.order(pizza4)\n",
    "\n",
    "    order.bill()\n",
    "except InvalidToppingException as ite:\n",
    "    print(f\"Error: {ite}\")\n",
    "except InvalidCheeseException as ice:\n",
    "    print(f\"Error: {ice}\")\n",
    "    "
   ]
  },
  {
   "cell_type": "code",
   "execution_count": 9,
   "metadata": {},
   "outputs": [],
   "source": [
    "file=open(r\"D:\\166 PY\\worked_exercises_text_files\\high_temperatures.txt\")\n",
    "file2=open(r\"Converted.txt\",\"a+\")\n",
    "mon=['January', 'February', 'March', 'April', 'May', 'June', 'July', 'August', 'September', 'October', 'November','December']\n",
    "for line in file:\n",
    "    file2.write(mon[int(line.split(\"/\")[0])-1]+\" \"+line.split(\"/\")[1].split()[0]+\"  -  \"+str(round((int(line.split(\"/\")[1].split()[1])-32)*(5/9),2))+\" degree Celcius \\n\")     \n",
    "file.close()\n",
    "file2.close()"
   ]
  },
  {
   "cell_type": "code",
   "execution_count": null,
   "metadata": {},
   "outputs": [],
   "source": []
  },
  {
   "cell_type": "code",
   "execution_count": null,
   "metadata": {},
   "outputs": [],
   "source": []
  }
 ],
 "metadata": {
  "kernelspec": {
   "display_name": "Python 3",
   "language": "python",
   "name": "python3"
  },
  "language_info": {
   "codemirror_mode": {
    "name": "ipython",
    "version": 3
   },
   "file_extension": ".py",
   "mimetype": "text/x-python",
   "name": "python",
   "nbconvert_exporter": "python",
   "pygments_lexer": "ipython3",
   "version": "3.8.5"
  }
 },
 "nbformat": 4,
 "nbformat_minor": 4
}
