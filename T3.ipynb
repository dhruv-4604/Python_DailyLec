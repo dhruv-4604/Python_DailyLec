{
 "cells": [
  {
   "cell_type": "markdown",
   "metadata": {
    "slideshow": {
     "slide_type": "slide"
    }
   },
   "source": [
    "# FILES IN PYTHON"
   ]
  },
  {
   "cell_type": "markdown",
   "metadata": {},
   "source": [
    "###### Open method creates a file object and the default mode is read."
   ]
  },
  {
   "cell_type": "code",
   "execution_count": null,
   "metadata": {},
   "outputs": [],
   "source": [
    "file2=open(r\"D:\\166\\T3\\text.txt\")\n",
    "print(file2)\n",
    "file2.close()"
   ]
  },
  {
   "cell_type": "markdown",
   "metadata": {},
   "source": [
    "#### Read Only Mode (r) \n",
    "This Mode is Read only mode the pointer is placed at the begining of file."
   ]
  },
  {
   "cell_type": "code",
   "execution_count": null,
   "metadata": {},
   "outputs": [],
   "source": [
    "file=open(r\"D:\\166\\T3\\text.txt\")\n",
    "print(file.read())\n",
    "file.close()"
   ]
  },
  {
   "cell_type": "markdown",
   "metadata": {},
   "source": [
    "### Write Only Mode(r)\n",
    "Its Open the file for write only. it overrides the file if it exists and creates a new file if it not exists."
   ]
  },
  {
   "cell_type": "code",
   "execution_count": null,
   "metadata": {},
   "outputs": [],
   "source": [
    "file=open(\"text3.txt\",\"w\")\n",
    "file.write(\"Test \\nThis is new line.\\n\")#overrides existing file data.\n",
    "file.close()"
   ]
  },
  {
   "cell_type": "markdown",
   "metadata": {},
   "source": [
    "### Append Mode (a)\n",
    "This mode append data at the last of the file and pointer is at the last position means end of the file and if file doesnt exist, it creates a new file."
   ]
  },
  {
   "cell_type": "code",
   "execution_count": null,
   "metadata": {},
   "outputs": [],
   "source": [
    "file=open(\"text3.txt\",\"a\")\n",
    "file.write(\"Appended File Data\")\n",
    "file.close()"
   ]
  },
  {
   "cell_type": "markdown",
   "metadata": {},
   "source": [
    "### Read - Write Mode (r+)\n",
    "This mode opens a file in read write mode(Sequence Important) and the file pointer is at the beginning of the file.It overrides the file if it exists and throws error if it not exists."
   ]
  },
  {
   "cell_type": "markdown",
   "metadata": {},
   "source": [
    "### Write - Read Mode (w+)\n",
    "This mode opens a file in write read mode(Sequence Important) and the file pointer is at the beginning of the file.It overrides the file if it exists and creates new file if it not exists."
   ]
  },
  {
   "cell_type": "markdown",
   "metadata": {},
   "source": [
    "### Append - Read Mode (a+)\n",
    "This mode opens a file in append read mode(Sequence Important) and the file pointer is at the last position means end of the file and creates new file if file is not exists."
   ]
  },
  {
   "cell_type": "code",
   "execution_count": null,
   "metadata": {},
   "outputs": [],
   "source": [
    "file=open(\"new.txt\",\"w+\")\n",
    "print(file.name)\n",
    "print(file.mode)\n",
    "print(file.closed)\n",
    "file.close()\n",
    "print(file.closed)\n"
   ]
  },
  {
   "cell_type": "code",
   "execution_count": null,
   "metadata": {},
   "outputs": [],
   "source": [
    "file=open(\"alice_in_wonderland.txt\")\n",
    "file.close()\n"
   ]
  },
  {
   "cell_type": "markdown",
   "metadata": {},
   "source": [
    "#### writelines(list of string)"
   ]
  },
  {
   "cell_type": "code",
   "execution_count": null,
   "metadata": {},
   "outputs": [],
   "source": [
    "file=open(\"new.txt\",\"w+\")\n",
    "print(file.name)\n",
    "print(file.mode)\n",
    "file.writelines([\"1\",\"2\",\"3\"])\n",
    "print(file.closed)\n",
    "file.close()\n",
    "print(file.closed)\n"
   ]
  },
  {
   "cell_type": "markdown",
   "metadata": {},
   "source": [
    "#### read([count])\n",
    "- If the count is not given it will read all the characters of the file.\n",
    "- If the count is given it reads upto n characters."
   ]
  },
  {
   "cell_type": "code",
   "execution_count": null,
   "metadata": {},
   "outputs": [],
   "source": [
    "file=open(\"text.txt\")\n",
    "print(file.read(5))\n",
    "print(file.read())"
   ]
  },
  {
   "cell_type": "markdown",
   "metadata": {},
   "source": [
    "#### readline(size)\n",
    "- This method reads a single lines from the file. The string contains a trailing new line character. The size is an optional parameter and it is the number of bytes or characters including trailing new line. an empty string is encountered when end of file is encountered."
   ]
  },
  {
   "cell_type": "code",
   "execution_count": null,
   "metadata": {},
   "outputs": [],
   "source": [
    "file=open(\"text4.txt\",\"w\")\n",
    "file.write(\"Hello\\nHow are...... ?\\nThis is a new line.\\nHuh\\nTest.\")\n",
    "file.close()"
   ]
  },
  {
   "cell_type": "code",
   "execution_count": null,
   "metadata": {},
   "outputs": [],
   "source": [
    "file=open(\"text4.txt\")\n",
    "print(file.readline(1).strip(\"\\n\"),end=\", \")\n",
    "print(file.readline().strip(\"\\n\"),end=\", \")\n",
    "print(file.readline().strip(\"\\n\"),end=\", \")\n",
    "print(file.readline().strip(\"\\n\"),end=\", \")\n",
    "print(file.readline().strip(\"\\n\"),end=\", \")\n",
    "print(file.readline().strip(\"\\n\"),end=\", \")\n",
    "file.close()"
   ]
  },
  {
   "cell_type": "markdown",
   "metadata": {},
   "source": [
    "#### readlines([sizehunt])\n",
    "- This method returns a list of lines followed by the trailing new line charcters. \n",
    "- An optional sizehunt arguement causes whole line to be read instead of reading upto end of file. An empty string is return when end of file is encountered"
   ]
  },
  {
   "cell_type": "code",
   "execution_count": null,
   "metadata": {},
   "outputs": [],
   "source": [
    "file=open(\"text4.txt\")\n",
    "print(file.readlines(22),end=\"\")\n",
    "file.close()"
   ]
  },
  {
   "cell_type": "code",
   "execution_count": null,
   "metadata": {},
   "outputs": [],
   "source": [
    "with open(\"text5.txt\",\"w\") as file:\n",
    "    file.write(\"Hello World\")\n",
    "print(file.closed)"
   ]
  },
  {
   "cell_type": "markdown",
   "metadata": {},
   "source": [
    "#### tell()\n",
    "- returns the current positon of the pointer\n"
   ]
  },
  {
   "cell_type": "code",
   "execution_count": 16,
   "metadata": {},
   "outputs": [
    {
     "name": "stdout",
     "output_type": "stream",
     "text": [
      "Hello\n",
      "How are...... ?\n",
      "This is a new line.\n",
      "Huh\n",
      "Test."
     ]
    }
   ],
   "source": [
    "file=open(\"text4.txt\")\n",
    "\n",
    "x=1\n",
    "while x!=file.tell():\n",
    "    x=file.tell()\n",
    "    print(file.read(1),end=\"\")\n",
    "\n",
    "    "
   ]
  },
  {
   "cell_type": "code",
   "execution_count": null,
   "metadata": {},
   "outputs": [],
   "source": []
  }
 ],
 "metadata": {
  "kernelspec": {
   "display_name": "Python 3",
   "language": "python",
   "name": "python3"
  },
  "language_info": {
   "codemirror_mode": {
    "name": "ipython",
    "version": 3
   },
   "file_extension": ".py",
   "mimetype": "text/x-python",
   "name": "python",
   "nbconvert_exporter": "python",
   "pygments_lexer": "ipython3",
   "version": "3.8.5"
  }
 },
 "nbformat": 4,
 "nbformat_minor": 4
}
