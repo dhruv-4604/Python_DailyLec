{
 "cells": [
  {
   "cell_type": "markdown",
   "metadata": {},
   "source": [
    "# Immutable Data Structure"
   ]
  },
  {
   "cell_type": "markdown",
   "metadata": {},
   "source": [
    "#### The data structure that can not be changed in space is called Immutable Data Structure\n",
    "\n",
    "the examples are : string, numbers, tuples, frozen set"
   ]
  },
  {
   "cell_type": "code",
   "execution_count": 7,
   "metadata": {},
   "outputs": [
    {
     "ename": "TypeError",
     "evalue": "'str' object does not support item assignment",
     "output_type": "error",
     "traceback": [
      "\u001b[1;31m---------------------------------------------------------------------------\u001b[0m",
      "\u001b[1;31mTypeError\u001b[0m                                 Traceback (most recent call last)",
      "\u001b[1;32m<ipython-input-7-7f97c447cbdc>\u001b[0m in \u001b[0;36m<module>\u001b[1;34m\u001b[0m\n\u001b[0;32m      1\u001b[0m \u001b[0ms\u001b[0m\u001b[1;33m=\u001b[0m\u001b[1;34m'python'\u001b[0m\u001b[1;33m\u001b[0m\u001b[1;33m\u001b[0m\u001b[0m\n\u001b[1;32m----> 2\u001b[1;33m \u001b[0ms\u001b[0m\u001b[1;33m[\u001b[0m\u001b[1;36m0\u001b[0m\u001b[1;33m]\u001b[0m\u001b[1;33m=\u001b[0m\u001b[1;34m\"z'\"\u001b[0m\u001b[1;33m\u001b[0m\u001b[1;33m\u001b[0m\u001b[0m\n\u001b[0m",
      "\u001b[1;31mTypeError\u001b[0m: 'str' object does not support item assignment"
     ]
    }
   ],
   "source": [
    "s='python'\n",
    "s[0]=\"z'\""
   ]
  },
  {
   "cell_type": "markdown",
   "metadata": {},
   "source": [
    "#### - ACCESS"
   ]
  },
  {
   "cell_type": "code",
   "execution_count": 15,
   "metadata": {},
   "outputs": [
    {
     "name": "stdout",
     "output_type": "stream",
     "text": [
      "e\n",
      "o\n"
     ]
    }
   ],
   "source": [
    "s='hello'\n",
    "print(s[1])\n",
    "print(s[-1]) #reverse indexing"
   ]
  },
  {
   "cell_type": "markdown",
   "metadata": {},
   "source": [
    "###### If the indexing is out of range it will throw Index Error\n",
    "<br>\n",
    "<br>\n",
    "\n"
   ]
  },
  {
   "cell_type": "markdown",
   "metadata": {},
   "source": [
    "#### - SLICING"
   ]
  },
  {
   "cell_type": "markdown",
   "metadata": {},
   "source": [
    "##### [start:stop:step] <br>\n",
    "Stop is exclusive <br>\n",
    "\n",
    "s[a:b] <br>\n",
    "if a & b <0 <br>\n",
    "a>b it's value will be blank <br>"
   ]
  },
  {
   "cell_type": "code",
   "execution_count": 43,
   "metadata": {},
   "outputs": [
    {
     "name": "stdout",
     "output_type": "stream",
     "text": [
      "Hello \n",
      "l\n",
      "H\n",
      "Hello World\n",
      "HloWrd\n",
      "Hello Worl\n",
      "\n",
      "o Wor\n",
      "ello\n"
     ]
    }
   ],
   "source": [
    "s='Hello World'\n",
    "\n",
    "print(s[0:6])\n",
    "print(s[2:3])\n",
    "print(s[:1])\n",
    "print(s[0:])\n",
    "print(s[:-1])\n",
    "print(s[-2:-6])\n",
    "print(s[-7:-2])\n",
    "print(s[1:5])"
   ]
  },
  {
   "cell_type": "code",
   "execution_count": 65,
   "metadata": {},
   "outputs": [
    {
     "name": "stdout",
     "output_type": "stream",
     "text": [
      "Hlo\n",
      "l\n",
      "leH\n",
      "dlroW olleH\n",
      "\n"
     ]
    }
   ],
   "source": [
    "s='Hello World'\n",
    "print(s[0:6:2])\n",
    "print(s[2:4:2])\n",
    "print(s[2::-1])\n",
    "print(s[::-1]) #reversed String\n",
    "print(s[1000:232323:1000])#No Index Error"
   ]
  },
  {
   "cell_type": "markdown",
   "metadata": {},
   "source": [
    "#### - DELETE"
   ]
  },
  {
   "cell_type": "code",
   "execution_count": 70,
   "metadata": {},
   "outputs": [
    {
     "name": "stdout",
     "output_type": "stream",
     "text": [
      "hi\n"
     ]
    },
    {
     "ename": "NameError",
     "evalue": "name 's' is not defined",
     "output_type": "error",
     "traceback": [
      "\u001b[1;31m---------------------------------------------------------------------------\u001b[0m",
      "\u001b[1;31mNameError\u001b[0m                                 Traceback (most recent call last)",
      "\u001b[1;32m<ipython-input-70-cc457f00cf24>\u001b[0m in \u001b[0;36m<module>\u001b[1;34m\u001b[0m\n\u001b[0;32m      2\u001b[0m \u001b[0mprint\u001b[0m\u001b[1;33m(\u001b[0m\u001b[0ms\u001b[0m\u001b[1;33m)\u001b[0m\u001b[1;33m\u001b[0m\u001b[1;33m\u001b[0m\u001b[0m\n\u001b[0;32m      3\u001b[0m \u001b[1;32mdel\u001b[0m \u001b[0ms\u001b[0m\u001b[1;33m\u001b[0m\u001b[1;33m\u001b[0m\u001b[0m\n\u001b[1;32m----> 4\u001b[1;33m \u001b[1;32mdel\u001b[0m \u001b[0ms\u001b[0m\u001b[1;33m\u001b[0m\u001b[1;33m\u001b[0m\u001b[0m\n\u001b[0m",
      "\u001b[1;31mNameError\u001b[0m: name 's' is not defined"
     ]
    }
   ],
   "source": [
    "s='hi'\n",
    "print(s)\n",
    "del s\n",
    "del s"
   ]
  },
  {
   "cell_type": "markdown",
   "metadata": {},
   "source": [
    "#### - STRING METHODS\n",
    "\n"
   ]
  },
  {
   "cell_type": "code",
   "execution_count": 335,
   "metadata": {},
   "outputs": [
    {
     "name": "stdout",
     "output_type": "stream",
     "text": [
      "pythonhi\n",
      "python python python \n",
      "['h', 'n', 'o', 'p', 't', 'y']\n",
      "y\n",
      "6\n",
      "5\n",
      "p y t h o n \n",
      "Index is 0 and Values is p\n",
      "Index is 1 and Values is y\n",
      "Index is 2 and Values is t\n",
      "Index is 3 and Values is h\n",
      "Index is 4 and Values is o\n",
      "Index is 5 and Values is n\n",
      "<enumerate object at 0x000001AAA27CC300>\n",
      "[(0, 'p'), (1, 'y'), (2, 't'), (3, 'h'), (4, 'o'), (5, 'n')]\n"
     ]
    }
   ],
   "source": [
    "s='python'\n",
    "\n",
    "t='hi'\n",
    "\n",
    "print(s+t)\n",
    "print((s+' ')*3)\n",
    "print(sorted(s))\n",
    "print(max(s))\n",
    "print(len(s))\n",
    "print(len('\\n\\n\\tHi'))\n",
    "for i in s:\n",
    "    print(i,end=\" \")\n",
    "print()\n",
    "for index,value in enumerate(s):\n",
    "    print(f\"Index is {index} and Values is {value}\")\n",
    "    \n",
    "print(enumerate(s))\n",
    "\n",
    "print(list(enumerate(s)))\n"
   ]
  },
  {
   "cell_type": "code",
   "execution_count": 144,
   "metadata": {},
   "outputs": [
    {
     "name": "stdout",
     "output_type": "stream",
     "text": [
      "Hello\n",
      "HELLO\n",
      "False\n",
      "HElLo\n"
     ]
    }
   ],
   "source": [
    "s=\"heLlO\"\n",
    "print(s.capitalize())\n",
    "print(s.upper())\n",
    "print(s.islower())\n",
    "print(s.swapcase())\n"
   ]
  },
  {
   "cell_type": "code",
   "execution_count": 204,
   "metadata": {},
   "outputs": [
    {
     "name": "stdout",
     "output_type": "stream",
     "text": [
      "0\n",
      "4\n",
      "4\n",
      "True\n",
      "True\n"
     ]
    }
   ],
   "source": [
    "s='python is a programing language'\n",
    "t='python'\n",
    "z='12452433'\n",
    "o=\"Hii\"\n",
    "print(s.count('o',0,2))\n",
    "print(s.find('on')) #return -1 when str not found\n",
    "print(s.index('o')) #Value Error When index is not found\n",
    "print(z.isnumeric())#only int\n",
    "print(o.isalnum())\n"
   ]
  },
  {
   "cell_type": "code",
   "execution_count": 297,
   "metadata": {},
   "outputs": [
    {
     "name": "stdout",
     "output_type": "stream",
     "text": [
      "Herrlo\n",
      "Herrro\n",
      "Helllo\n",
      "Herrro\n",
      "['He', 'llo']\n",
      "['l', 'l', 'o']\n",
      "He <join> llo\n",
      "H <join> e <join> l <join> l <join> l <join> o\n"
     ]
    }
   ],
   "source": [
    "s=\"Helllo\"\n",
    "\n",
    "print(s.replace('l','r',2))\n",
    "print(s.replace('l','r'))\n",
    "print(s.replace('x','r'))\n",
    "print(s.replace('l','r',-333))\n",
    "print(s.split('l',1))\n",
    "print(list(s.split('l',1)[1]))\n",
    "print(' <join> '.join(s.split('l',1)))\n",
    "print(' <join> '.join(s))"
   ]
  },
  {
   "cell_type": "code",
   "execution_count": 334,
   "metadata": {},
   "outputs": [
    {
     "name": "stdout",
     "output_type": "stream",
     "text": [
      "elHl\n"
     ]
    }
   ],
   "source": [
    "s='HHoelHlHH'\n",
    "print(s.strip(\"Ho\"))\n"
   ]
  },
  {
   "cell_type": "code",
   "execution_count": null,
   "metadata": {},
   "outputs": [],
   "source": []
  }
 ],
 "metadata": {
  "kernelspec": {
   "display_name": "Python 3",
   "language": "python",
   "name": "python3"
  },
  "language_info": {
   "codemirror_mode": {
    "name": "ipython",
    "version": 3
   },
   "file_extension": ".py",
   "mimetype": "text/x-python",
   "name": "python",
   "nbconvert_exporter": "python",
   "pygments_lexer": "ipython3",
   "version": "3.8.5"
  }
 },
 "nbformat": 4,
 "nbformat_minor": 4
}
